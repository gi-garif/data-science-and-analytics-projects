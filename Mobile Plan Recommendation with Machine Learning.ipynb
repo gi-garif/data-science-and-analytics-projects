{
  "cells": [
    {
      "cell_type": "markdown",
      "metadata": {
        "id": "igZo4tA5zrHD"
      },
      "source": [
        "# Mobile Plan Recommendation"
      ]
    },
    {
      "cell_type": "markdown",
      "metadata": {
        "id": "d1AIrIFVzrHD"
      },
      "source": [
        "There is data on the behavior of customers who have already switched to new mobile plans. The goal of this project is to build a classification model that will select the appropriate plan with the highest accuracy. To successfully complete the project, we need to achieve at least 0.75 accuracy on the test dataset.\n",
        "\n",
        "The model will be used by the mobile operator \"Megaline,\" which aims to create a system capable of analyzing customer behavior and offering users of archived tariffs a new tariff: \"Smart\" or \"Ultra.\""
      ]
    },
    {
      "cell_type": "markdown",
      "metadata": {
        "id": "-2yAsZqtzrHD"
      },
      "source": [
        "## Let's study the dataframe"
      ]
    },
    {
      "cell_type": "code",
      "execution_count": 1,
      "metadata": {
        "id": "s52vEzSHzrHD"
      },
      "outputs": [],
      "source": [
        "import pandas as pd\n",
        "from sklearn.tree import DecisionTreeClassifier\n",
        "from sklearn.ensemble import RandomForestClassifier\n",
        "from sklearn.linear_model import LogisticRegression\n",
        "from sklearn.model_selection import train_test_split\n",
        "from sklearn.metrics import accuracy_score\n",
        "from sklearn.dummy import DummyClassifier"
      ]
    },
    {
      "cell_type": "code",
      "execution_count": 2,
      "metadata": {
        "id": "Nk0KGIm4zrHE"
      },
      "outputs": [],
      "source": [
        "df = pd.read_csv('https://code.s3.yandex.net/datasets/users_behavior.csv')"
      ]
    },
    {
      "cell_type": "code",
      "execution_count": 3,
      "metadata": {
        "colab": {
          "base_uri": "https://localhost:8080/"
        },
        "id": "VK3QGXobzrHE",
        "outputId": "0fd26e6a-d5be-41e4-c2ca-a6a78d9a7cdc"
      },
      "outputs": [
        {
          "output_type": "stream",
          "name": "stdout",
          "text": [
            "<class 'pandas.core.frame.DataFrame'>\n",
            "RangeIndex: 3214 entries, 0 to 3213\n",
            "Data columns (total 5 columns):\n",
            " #   Column    Non-Null Count  Dtype  \n",
            "---  ------    --------------  -----  \n",
            " 0   calls     3214 non-null   float64\n",
            " 1   minutes   3214 non-null   float64\n",
            " 2   messages  3214 non-null   float64\n",
            " 3   mb_used   3214 non-null   float64\n",
            " 4   is_ultra  3214 non-null   int64  \n",
            "dtypes: float64(4), int64(1)\n",
            "memory usage: 125.7 KB\n",
            "None\n",
            "--------------------------------------------------\n",
            "   calls  minutes  messages   mb_used  is_ultra\n",
            "0   40.0   311.90      83.0  19915.42         0\n",
            "1   85.0   516.75      56.0  22696.96         0\n",
            "2   77.0   467.66      86.0  21060.45         0\n",
            "3  106.0   745.53      81.0   8437.39         1\n",
            "4   66.0   418.74       1.0  14502.75         0\n",
            "5   58.0   344.56      21.0  15823.37         0\n",
            "6   57.0   431.64      20.0   3738.90         1\n",
            "7   15.0   132.40       6.0  21911.60         0\n",
            "8    7.0    43.39       3.0   2538.67         1\n",
            "9   90.0   665.41      38.0  17358.61         0\n",
            "--------------------------------------------------\n",
            "Duplicate rows: 0\n",
            "--------------------------------------------------\n",
            "Percent of missing values by column:\n",
            "calls       0.0\n",
            "minutes     0.0\n",
            "messages    0.0\n",
            "mb_used     0.0\n",
            "is_ultra    0.0\n",
            "dtype: float64\n"
          ]
        }
      ],
      "source": [
        "# a function to display the general info\n",
        "def preprocess(data):\n",
        "    print(data.info(), data.head(10), f'Duplicate rows: {df.duplicated().sum()}', f'Percent of missing values by column:\\n{df.isna().mean().round(4) * 100}', sep='\\n'+'-'*50+'\\n')\n",
        "\n",
        "preprocess(df)\n",
        ""
      ]
    },
    {
      "cell_type": "code",
      "execution_count": 4,
      "metadata": {
        "id": "3r2_ZVbkzrHF"
      },
      "outputs": [],
      "source": [
        "# converting numeric values to Int64\n",
        "for col in ['calls', 'messages']:\n",
        "    df[col] = df[col].astype('Int64')"
      ]
    },
    {
      "cell_type": "markdown",
      "metadata": {
        "id": "t56sq6sAzrHF"
      },
      "source": [
        "## Splitting the dataframe into training, testing and validation samples"
      ]
    },
    {
      "cell_type": "code",
      "execution_count": 5,
      "metadata": {
        "id": "NVlhHwTKzrHF"
      },
      "outputs": [],
      "source": [
        "# a function that we'll use to split the data\n",
        "def feature_target_split(data, column):\n",
        "    features = data.drop([column], axis=1)\n",
        "    target = data[column]\n",
        "\n",
        "    return features, target"
      ]
    },
    {
      "cell_type": "code",
      "execution_count": 6,
      "metadata": {
        "id": "-WPYrh54zrHF"
      },
      "outputs": [],
      "source": [
        "# splitting into train and test\n",
        "df_train, df_test = train_test_split(df, test_size=0.2, random_state=12345)\n",
        "\n",
        "features_test, target_test = feature_target_split(data=df_test, column='is_ultra')"
      ]
    },
    {
      "cell_type": "code",
      "execution_count": 7,
      "metadata": {
        "id": "zW-KlpDEzrHF"
      },
      "outputs": [],
      "source": [
        "# splitting into train and valid\n",
        "df_train, df_valid = train_test_split(df_train, test_size=0.25, random_state=12345)\n",
        "\n",
        "features_train, target_train = feature_target_split(data=df_train, column='is_ultra')\n",
        "features_valid, target_valid = feature_target_split(data=df_valid, column='is_ultra')"
      ]
    },
    {
      "cell_type": "code",
      "execution_count": 8,
      "metadata": {
        "colab": {
          "base_uri": "https://localhost:8080/"
        },
        "id": "P3Gy31gGzrHG",
        "outputId": "7767d709-d522-4bc5-da2f-77a1112f2481"
      },
      "outputs": [
        {
          "output_type": "stream",
          "name": "stdout",
          "text": [
            "Original dataframe size: (3214, 5)\n",
            "Training sample size: (1928, 5)\n",
            "Testing sample size: (643, 5)\n",
            "Validation sample size: (643, 5)\n"
          ]
        }
      ],
      "source": [
        "print(f'Original dataframe size: {df.shape}', f'Training sample size: {df_train.shape}', f'Testing sample size: {df_test.shape}', f'Validation sample size: {df_valid.shape}', sep=\"\\n\")"
      ]
    },
    {
      "cell_type": "markdown",
      "metadata": {
        "id": "agJEcG22zrHG"
      },
      "source": [
        "## Finding the best model"
      ]
    },
    {
      "cell_type": "code",
      "execution_count": 9,
      "metadata": {
        "colab": {
          "base_uri": "https://localhost:8080/"
        },
        "id": "sy9qMi2ZzrHG",
        "outputId": "a016fd47-89e2-4e29-e5ad-b6d5fa0dd10d"
      },
      "outputs": [
        {
          "output_type": "stream",
          "name": "stdout",
          "text": [
            "Best accuracy: 0.7744945567651633\n",
            "Best depth: 7\n"
          ]
        }
      ],
      "source": [
        "# Decision Tree model\n",
        "best_accuracy = 0\n",
        "best_depth = 0\n",
        "for depth in range(1, 16):\n",
        "    model = DecisionTreeClassifier(random_state=12345, max_depth=depth)\n",
        "    model.fit(features_train, target_train)\n",
        "    accuracy = model.score(features_valid, target_valid)\n",
        "    if accuracy > best_accuracy:\n",
        "        best_accuracy = accuracy\n",
        "        best_depth = depth\n",
        "\n",
        "print(f'Best accuracy: {best_accuracy}', f'Best depth: {best_depth}', sep='\\n')"
      ]
    },
    {
      "cell_type": "code",
      "execution_count": 10,
      "metadata": {
        "colab": {
          "base_uri": "https://localhost:8080/"
        },
        "id": "BoV4xFpDzrHG",
        "outputId": "41424702-45ac-449d-cd50-7967ca20b60b"
      },
      "outputs": [
        {
          "output_type": "stream",
          "name": "stdout",
          "text": [
            "Best accuracy: 0.7978227060653188\n",
            "Best depth: 10\n",
            "Number of trees: 50\n"
          ]
        }
      ],
      "source": [
        "# Random Forest\n",
        "best_accuracy = 0\n",
        "best_est = 0\n",
        "best_depth = 0\n",
        "for est in range(10, 51, 10):\n",
        "    for depth in range (1, 11):\n",
        "        model = RandomForestClassifier(random_state=12345, n_estimators=est, max_depth=depth)\n",
        "        model.fit(features_train, target_train)\n",
        "        accuracy = model.score(features_valid, target_valid)\n",
        "        if accuracy > best_accuracy:\n",
        "            best_accuracy = accuracy\n",
        "            best_est = est\n",
        "            best_depth = depth\n",
        "\n",
        "print(f'Best accuracy: {best_accuracy}', f'Best depth: {best_depth}', f'Number of trees: {best_est}', sep='\\n')"
      ]
    },
    {
      "cell_type": "code",
      "execution_count": 11,
      "metadata": {
        "colab": {
          "base_uri": "https://localhost:8080/"
        },
        "id": "XRoGn1vOzrHH",
        "outputId": "39e26afb-0539-488e-8331-c946156e6385"
      },
      "outputs": [
        {
          "output_type": "stream",
          "name": "stdout",
          "text": [
            "Best accuracy: 0.7262830482115086\n"
          ]
        }
      ],
      "source": [
        "# Logistic Regression\n",
        "model = LogisticRegression()\n",
        "model.fit(features_train, target_train)\n",
        "accuracy = model.score(features_valid, target_valid)\n",
        "print(\"Best accuracy:\", accuracy)"
      ]
    },
    {
      "cell_type": "markdown",
      "metadata": {
        "id": "r9RssDj2zrHH"
      },
      "source": [
        "Random Forest Classifier has the accuracy. Let's see its results on the testing sample."
      ]
    },
    {
      "cell_type": "markdown",
      "metadata": {
        "id": "CLVFc9wDzrHH"
      },
      "source": [
        "## Testing the best model"
      ]
    },
    {
      "cell_type": "code",
      "execution_count": 12,
      "metadata": {
        "colab": {
          "base_uri": "https://localhost:8080/"
        },
        "id": "eSYmgoi9zrHH",
        "outputId": "806f7726-aa5c-405a-b3bb-0f852bc63a82"
      },
      "outputs": [
        {
          "output_type": "stream",
          "name": "stdout",
          "text": [
            "Accuracy: 0.7900466562986003\n"
          ]
        }
      ],
      "source": [
        "model = RandomForestClassifier(max_depth=7, n_estimators=40, min_samples_leaf=3, random_state=12345)\n",
        "model.fit(features_train, target_train)\n",
        "accuracy = model.score(features_test, target_test)\n",
        "print(\"Accuracy:\", accuracy)"
      ]
    },
    {
      "cell_type": "markdown",
      "metadata": {
        "id": "2xPVIUsgzrHH"
      },
      "source": [
        "The result achieved on the testing sample is comparable to the result achieved during training."
      ]
    },
    {
      "cell_type": "markdown",
      "metadata": {
        "id": "9z0P9WKkzrHI"
      },
      "source": [
        "## Checking the model's adequacy"
      ]
    },
    {
      "cell_type": "code",
      "execution_count": 13,
      "metadata": {
        "colab": {
          "base_uri": "https://localhost:8080/"
        },
        "id": "3gyCftivzrHI",
        "outputId": "0bb475f2-068f-4696-fbe4-8b880cff7c69"
      },
      "outputs": [
        {
          "output_type": "stream",
          "name": "stdout",
          "text": [
            "Dummy model's result on the testing sample: 0.6951788491446346\n"
          ]
        }
      ],
      "source": [
        "dummy_clf = DummyClassifier(strategy='most_frequent')\n",
        "dummy_clf.fit(features_train, target_train)\n",
        "\n",
        "dummy_valid = dummy_clf.score(features_valid, target_valid)\n",
        "dummy_test = dummy_clf.score(features_test, target_test)\n",
        "\n",
        "print(f\"Dummy model's result on the testing sample: {dummy_test}\")"
      ]
    },
    {
      "cell_type": "markdown",
      "metadata": {
        "id": "T72gFG7OzrHI"
      },
      "source": [
        "The result of the random model on the test dataset is lower than that of the models considered above. This proves the adequacy of the models examined."
      ]
    },
    {
      "cell_type": "markdown",
      "metadata": {
        "id": "mqCWf_cJzrHI"
      },
      "source": [
        "## Conclusion\n",
        "In this study, we have chosen a model for the classification task that will most effectively select the appropriate tariff for mobile operator's clients. For this purpose, we examined three different algorithms: Decision Tree, Random Forest, and Logistic Regression. The best model turned out to be the one built using RandomForestClassifier with a tree depth parameter of 10 and 50 trees. The accuracy of this model is close to 80% both on the training and testing data."
      ]
    }
  ],
  "metadata": {
    "ExecuteTimeLog": [
      {
        "duration": 372,
        "start_time": "2023-03-02T19:07:03.661Z"
      },
      {
        "duration": 167,
        "start_time": "2023-03-02T19:07:05.121Z"
      },
      {
        "duration": 12,
        "start_time": "2023-03-02T19:07:06.580Z"
      },
      {
        "duration": 15,
        "start_time": "2023-03-02T19:07:08.893Z"
      },
      {
        "duration": 61,
        "start_time": "2023-03-02T19:07:43.180Z"
      },
      {
        "duration": 8,
        "start_time": "2023-03-02T19:07:56.717Z"
      },
      {
        "duration": 18,
        "start_time": "2023-03-03T01:31:46.866Z"
      },
      {
        "duration": 16,
        "start_time": "2023-03-03T01:32:03.891Z"
      },
      {
        "duration": 5,
        "start_time": "2023-03-03T01:35:09.434Z"
      },
      {
        "duration": 9,
        "start_time": "2023-03-03T01:35:16.102Z"
      },
      {
        "duration": 10,
        "start_time": "2023-03-03T01:35:31.744Z"
      },
      {
        "duration": 729,
        "start_time": "2023-03-03T01:44:20.103Z"
      },
      {
        "duration": 3,
        "start_time": "2023-03-03T01:45:47.663Z"
      },
      {
        "duration": 7,
        "start_time": "2023-03-03T01:45:55.413Z"
      },
      {
        "duration": 35,
        "start_time": "2023-03-03T01:47:27.115Z"
      },
      {
        "duration": 4898,
        "start_time": "2023-03-03T01:49:22.793Z"
      },
      {
        "duration": 9,
        "start_time": "2023-03-03T01:49:52.269Z"
      },
      {
        "duration": 63,
        "start_time": "2023-03-03T01:53:23.869Z"
      },
      {
        "duration": 2,
        "start_time": "2023-03-03T01:53:38.613Z"
      },
      {
        "duration": 30,
        "start_time": "2023-03-03T01:53:43.133Z"
      },
      {
        "duration": 34,
        "start_time": "2023-03-03T01:54:00.079Z"
      },
      {
        "duration": 34,
        "start_time": "2023-03-03T01:56:05.461Z"
      },
      {
        "duration": 36,
        "start_time": "2023-03-03T02:00:30.396Z"
      },
      {
        "duration": 7,
        "start_time": "2023-03-05T01:22:47.660Z"
      },
      {
        "duration": 7,
        "start_time": "2023-03-05T01:22:49.418Z"
      },
      {
        "duration": 33,
        "start_time": "2023-03-05T01:23:10.377Z"
      },
      {
        "duration": 15,
        "start_time": "2023-03-05T01:28:08.165Z"
      },
      {
        "duration": 34,
        "start_time": "2023-03-05T01:28:12.674Z"
      },
      {
        "duration": 14,
        "start_time": "2023-03-05T01:28:35.305Z"
      },
      {
        "duration": 33,
        "start_time": "2023-03-05T01:29:22.429Z"
      },
      {
        "duration": 122,
        "start_time": "2023-03-05T01:30:15.760Z"
      },
      {
        "duration": 73,
        "start_time": "2023-03-05T01:37:03.127Z"
      },
      {
        "duration": 4385,
        "start_time": "2023-03-05T01:37:10.788Z"
      },
      {
        "duration": 10,
        "start_time": "2023-03-05T01:39:27.256Z"
      },
      {
        "duration": 4,
        "start_time": "2023-03-05T01:39:52.619Z"
      },
      {
        "duration": 45,
        "start_time": "2023-03-05T01:39:58.446Z"
      },
      {
        "duration": 14,
        "start_time": "2023-03-05T01:42:59.185Z"
      },
      {
        "duration": 150,
        "start_time": "2023-03-05T01:44:21.429Z"
      },
      {
        "duration": 42,
        "start_time": "2023-03-05T01:44:50.918Z"
      },
      {
        "duration": 3,
        "start_time": "2023-03-05T01:46:25.843Z"
      },
      {
        "duration": 132,
        "start_time": "2023-03-05T01:46:36.236Z"
      },
      {
        "duration": 3796,
        "start_time": "2023-03-05T01:46:57.833Z"
      },
      {
        "duration": 15,
        "start_time": "2023-03-05T01:47:13.031Z"
      },
      {
        "duration": 115,
        "start_time": "2023-03-05T01:47:20.729Z"
      },
      {
        "duration": 4,
        "start_time": "2023-03-05T02:00:28.951Z"
      },
      {
        "duration": 6,
        "start_time": "2023-03-05T02:00:32.928Z"
      },
      {
        "duration": 6,
        "start_time": "2023-03-05T02:00:34.713Z"
      },
      {
        "duration": 19,
        "start_time": "2023-03-05T02:02:49.659Z"
      },
      {
        "duration": 19,
        "start_time": "2023-03-05T02:03:10.195Z"
      },
      {
        "duration": 18,
        "start_time": "2023-03-05T02:03:31.085Z"
      },
      {
        "duration": 19,
        "start_time": "2023-03-05T02:04:32.475Z"
      },
      {
        "duration": 19,
        "start_time": "2023-03-05T02:04:39.519Z"
      },
      {
        "duration": 18,
        "start_time": "2023-03-05T02:04:47.755Z"
      },
      {
        "duration": 14,
        "start_time": "2023-03-05T02:08:20.074Z"
      },
      {
        "duration": 14,
        "start_time": "2023-03-05T02:08:43.275Z"
      },
      {
        "duration": 13,
        "start_time": "2023-03-05T02:08:52.322Z"
      },
      {
        "duration": 128,
        "start_time": "2023-03-05T02:09:47.027Z"
      },
      {
        "duration": 142,
        "start_time": "2023-03-05T02:11:34.135Z"
      },
      {
        "duration": 123,
        "start_time": "2023-03-05T02:11:39.768Z"
      },
      {
        "duration": 124,
        "start_time": "2023-03-05T02:12:05.156Z"
      },
      {
        "duration": 131,
        "start_time": "2023-03-05T02:12:35.952Z"
      },
      {
        "duration": 126,
        "start_time": "2023-03-05T02:12:57.506Z"
      },
      {
        "duration": 110,
        "start_time": "2023-03-05T02:14:35.164Z"
      },
      {
        "duration": 3810,
        "start_time": "2023-03-05T02:14:40.786Z"
      },
      {
        "duration": 3833,
        "start_time": "2023-03-05T02:15:25.936Z"
      },
      {
        "duration": 39,
        "start_time": "2023-03-05T02:15:46.581Z"
      },
      {
        "duration": 13,
        "start_time": "2023-03-05T02:58:05.966Z"
      },
      {
        "duration": 2,
        "start_time": "2023-03-05T02:58:46.473Z"
      },
      {
        "duration": 7,
        "start_time": "2023-03-05T02:58:50.706Z"
      },
      {
        "duration": 12,
        "start_time": "2023-03-05T03:04:01.949Z"
      },
      {
        "duration": 3,
        "start_time": "2023-03-05T03:04:27.049Z"
      },
      {
        "duration": 15,
        "start_time": "2023-03-05T03:04:30.509Z"
      },
      {
        "duration": 3,
        "start_time": "2023-03-05T03:04:55.527Z"
      },
      {
        "duration": 6,
        "start_time": "2023-03-05T03:04:57.332Z"
      },
      {
        "duration": 7,
        "start_time": "2023-03-05T03:04:59.322Z"
      },
      {
        "duration": 127,
        "start_time": "2023-03-05T03:05:03.803Z"
      },
      {
        "duration": 3564,
        "start_time": "2023-03-05T03:05:07.993Z"
      },
      {
        "duration": 38,
        "start_time": "2023-03-05T03:05:14.893Z"
      },
      {
        "duration": 14,
        "start_time": "2023-03-05T03:05:18.315Z"
      },
      {
        "duration": 111,
        "start_time": "2023-03-05T03:05:19.984Z"
      },
      {
        "duration": 38,
        "start_time": "2023-03-05T03:05:21.805Z"
      },
      {
        "duration": 1138,
        "start_time": "2023-03-05T03:11:02.301Z"
      },
      {
        "duration": 136,
        "start_time": "2023-03-05T03:11:03.441Z"
      },
      {
        "duration": 23,
        "start_time": "2023-03-05T03:11:03.578Z"
      },
      {
        "duration": 75,
        "start_time": "2023-03-05T03:11:03.603Z"
      },
      {
        "duration": 0,
        "start_time": "2023-03-05T03:11:03.680Z"
      },
      {
        "duration": 0,
        "start_time": "2023-03-05T03:11:03.681Z"
      },
      {
        "duration": 0,
        "start_time": "2023-03-05T03:11:03.683Z"
      },
      {
        "duration": 1,
        "start_time": "2023-03-05T03:11:03.683Z"
      },
      {
        "duration": 0,
        "start_time": "2023-03-05T03:11:03.684Z"
      },
      {
        "duration": 0,
        "start_time": "2023-03-05T03:11:03.685Z"
      },
      {
        "duration": 0,
        "start_time": "2023-03-05T03:11:03.687Z"
      },
      {
        "duration": 0,
        "start_time": "2023-03-05T03:11:03.688Z"
      },
      {
        "duration": 0,
        "start_time": "2023-03-05T03:11:03.689Z"
      },
      {
        "duration": 0,
        "start_time": "2023-03-05T03:11:03.690Z"
      },
      {
        "duration": 1112,
        "start_time": "2023-03-05T03:11:34.944Z"
      },
      {
        "duration": 32,
        "start_time": "2023-03-05T03:11:36.058Z"
      },
      {
        "duration": 23,
        "start_time": "2023-03-05T03:11:36.092Z"
      },
      {
        "duration": 6,
        "start_time": "2023-03-05T03:11:36.117Z"
      },
      {
        "duration": 7,
        "start_time": "2023-03-05T03:11:36.125Z"
      },
      {
        "duration": 9,
        "start_time": "2023-03-05T03:11:36.133Z"
      },
      {
        "duration": 7,
        "start_time": "2023-03-05T03:11:36.143Z"
      },
      {
        "duration": 142,
        "start_time": "2023-03-05T03:11:36.152Z"
      },
      {
        "duration": 3655,
        "start_time": "2023-03-05T03:11:36.296Z"
      },
      {
        "duration": 39,
        "start_time": "2023-03-05T03:11:39.953Z"
      },
      {
        "duration": 27,
        "start_time": "2023-03-05T03:11:39.994Z"
      },
      {
        "duration": 126,
        "start_time": "2023-03-05T03:11:40.023Z"
      },
      {
        "duration": 38,
        "start_time": "2023-03-05T03:11:40.150Z"
      },
      {
        "duration": 5,
        "start_time": "2023-03-05T03:11:40.191Z"
      },
      {
        "duration": 1129,
        "start_time": "2023-03-05T03:12:05.639Z"
      },
      {
        "duration": 32,
        "start_time": "2023-03-05T03:12:06.769Z"
      },
      {
        "duration": 21,
        "start_time": "2023-03-05T03:12:06.803Z"
      },
      {
        "duration": 5,
        "start_time": "2023-03-05T03:12:06.825Z"
      },
      {
        "duration": 5,
        "start_time": "2023-03-05T03:12:06.833Z"
      },
      {
        "duration": 8,
        "start_time": "2023-03-05T03:12:06.840Z"
      },
      {
        "duration": 8,
        "start_time": "2023-03-05T03:12:06.850Z"
      },
      {
        "duration": 141,
        "start_time": "2023-03-05T03:12:06.860Z"
      },
      {
        "duration": 3782,
        "start_time": "2023-03-05T03:12:07.003Z"
      },
      {
        "duration": 48,
        "start_time": "2023-03-05T03:12:10.787Z"
      },
      {
        "duration": 14,
        "start_time": "2023-03-05T03:12:10.837Z"
      },
      {
        "duration": 128,
        "start_time": "2023-03-05T03:12:10.853Z"
      },
      {
        "duration": 47,
        "start_time": "2023-03-05T03:12:10.982Z"
      },
      {
        "duration": 5,
        "start_time": "2023-03-05T03:12:11.031Z"
      },
      {
        "duration": 1089,
        "start_time": "2023-03-05T03:14:12.553Z"
      },
      {
        "duration": 32,
        "start_time": "2023-03-05T03:14:13.644Z"
      },
      {
        "duration": 22,
        "start_time": "2023-03-05T03:14:13.678Z"
      },
      {
        "duration": 5,
        "start_time": "2023-03-05T03:14:13.702Z"
      },
      {
        "duration": 5,
        "start_time": "2023-03-05T03:14:13.709Z"
      },
      {
        "duration": 9,
        "start_time": "2023-03-05T03:14:13.716Z"
      },
      {
        "duration": 10,
        "start_time": "2023-03-05T03:14:13.727Z"
      },
      {
        "duration": 141,
        "start_time": "2023-03-05T03:14:13.738Z"
      },
      {
        "duration": 3812,
        "start_time": "2023-03-05T03:14:13.880Z"
      },
      {
        "duration": 50,
        "start_time": "2023-03-05T03:14:17.694Z"
      },
      {
        "duration": 15,
        "start_time": "2023-03-05T03:14:17.745Z"
      },
      {
        "duration": 130,
        "start_time": "2023-03-05T03:14:17.762Z"
      },
      {
        "duration": 49,
        "start_time": "2023-03-05T03:14:17.894Z"
      },
      {
        "duration": 6,
        "start_time": "2023-03-05T03:14:17.944Z"
      },
      {
        "duration": 1168,
        "start_time": "2023-03-05T18:43:38.636Z"
      },
      {
        "duration": 119,
        "start_time": "2023-03-05T18:43:39.805Z"
      },
      {
        "duration": 21,
        "start_time": "2023-03-05T18:43:39.925Z"
      },
      {
        "duration": 4,
        "start_time": "2023-03-05T18:43:39.947Z"
      },
      {
        "duration": 5,
        "start_time": "2023-03-05T18:43:39.953Z"
      },
      {
        "duration": 7,
        "start_time": "2023-03-05T18:43:39.959Z"
      },
      {
        "duration": 5,
        "start_time": "2023-03-05T18:43:39.968Z"
      },
      {
        "duration": 127,
        "start_time": "2023-03-05T18:43:39.975Z"
      },
      {
        "duration": 3517,
        "start_time": "2023-03-05T18:43:40.104Z"
      },
      {
        "duration": 48,
        "start_time": "2023-03-05T18:43:43.623Z"
      },
      {
        "duration": 25,
        "start_time": "2023-03-05T18:43:43.672Z"
      },
      {
        "duration": 133,
        "start_time": "2023-03-05T18:43:43.699Z"
      },
      {
        "duration": 42,
        "start_time": "2023-03-05T18:43:43.834Z"
      },
      {
        "duration": 5,
        "start_time": "2023-03-05T18:43:43.891Z"
      },
      {
        "duration": 98,
        "start_time": "2023-03-06T01:13:50.643Z"
      },
      {
        "duration": 75,
        "start_time": "2023-03-06T01:14:12.962Z"
      },
      {
        "duration": 159,
        "start_time": "2023-03-06T01:15:05.030Z"
      },
      {
        "duration": 44,
        "start_time": "2023-03-06T01:23:13.012Z"
      },
      {
        "duration": 1092,
        "start_time": "2023-03-06T01:23:24.405Z"
      },
      {
        "duration": 154,
        "start_time": "2023-03-06T01:23:25.499Z"
      },
      {
        "duration": 20,
        "start_time": "2023-03-06T01:23:25.655Z"
      },
      {
        "duration": 5,
        "start_time": "2023-03-06T01:23:25.677Z"
      },
      {
        "duration": 10,
        "start_time": "2023-03-06T01:23:25.683Z"
      },
      {
        "duration": 10,
        "start_time": "2023-03-06T01:23:25.695Z"
      },
      {
        "duration": 8,
        "start_time": "2023-03-06T01:23:25.707Z"
      },
      {
        "duration": 5,
        "start_time": "2023-03-06T01:23:27.782Z"
      },
      {
        "duration": 68,
        "start_time": "2023-03-06T01:25:34.447Z"
      },
      {
        "duration": 1102,
        "start_time": "2023-03-06T01:59:56.874Z"
      },
      {
        "duration": 29,
        "start_time": "2023-03-06T01:59:57.980Z"
      },
      {
        "duration": 25,
        "start_time": "2023-03-06T01:59:58.010Z"
      },
      {
        "duration": 4,
        "start_time": "2023-03-06T01:59:58.036Z"
      },
      {
        "duration": 12,
        "start_time": "2023-03-06T01:59:58.042Z"
      },
      {
        "duration": 31,
        "start_time": "2023-03-06T01:59:58.056Z"
      },
      {
        "duration": 7,
        "start_time": "2023-03-06T01:59:58.088Z"
      },
      {
        "duration": 5,
        "start_time": "2023-03-06T01:59:58.096Z"
      },
      {
        "duration": 126,
        "start_time": "2023-03-06T01:59:58.102Z"
      },
      {
        "duration": 3749,
        "start_time": "2023-03-06T01:59:58.229Z"
      },
      {
        "duration": 38,
        "start_time": "2023-03-06T02:00:01.980Z"
      },
      {
        "duration": 143,
        "start_time": "2023-03-06T02:00:02.020Z"
      },
      {
        "duration": 13,
        "start_time": "2023-03-06T02:00:02.172Z"
      }
    ],
    "kernelspec": {
      "display_name": "Python 3 (ipykernel)",
      "language": "python",
      "name": "python3"
    },
    "language_info": {
      "codemirror_mode": {
        "name": "ipython",
        "version": 3
      },
      "file_extension": ".py",
      "mimetype": "text/x-python",
      "name": "python",
      "nbconvert_exporter": "python",
      "pygments_lexer": "ipython3",
      "version": "3.9.5"
    },
    "toc": {
      "base_numbering": 1,
      "nav_menu": {},
      "number_sections": true,
      "sideBar": true,
      "skip_h1_title": true,
      "title_cell": "Table of Contents",
      "title_sidebar": "Contents",
      "toc_cell": false,
      "toc_position": {
        "height": "calc(100% - 180px)",
        "left": "10px",
        "top": "150px",
        "width": "235.594px"
      },
      "toc_section_display": true,
      "toc_window_display": true
    },
    "colab": {
      "provenance": []
    }
  },
  "nbformat": 4,
  "nbformat_minor": 0
}