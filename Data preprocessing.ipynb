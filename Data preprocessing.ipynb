{
  "cells": [
    {
      "cell_type": "markdown",
      "id": "43f4b9a7",
      "metadata": {
        "deletable": false,
        "editable": false,
        "id": "43f4b9a7"
      },
      "source": [
        "# Creditworthiness analysis\n"
      ]
    },
    {
      "cell_type": "markdown",
      "id": "11a4a677",
      "metadata": {
        "deletable": false,
        "editable": false,
        "id": "11a4a677"
      },
      "source": [
        "Based on the data from the bank's credit department, I investigated the influence of marital status and the number of children on the timely repayment of loans. Information about the data was obtained, and missing values were identified and processed. Data types were adjusted to match the stored data. Duplicates were removed. The data was categorized, and one dataframe was decomposed into three."
      ]
    },
    {
      "cell_type": "markdown",
      "source": [
        "## Let's take a look at the data"
      ],
      "metadata": {
        "id": "jmzCAynorLDF"
      },
      "id": "jmzCAynorLDF"
    },
    {
      "cell_type": "code",
      "execution_count": 1,
      "id": "d27a81e3",
      "metadata": {
        "deletable": false,
        "id": "d27a81e3"
      },
      "outputs": [],
      "source": [
        "import pandas as pd\n",
        "\n",
        "try:\n",
        "    data = pd.read_csv('/datasets/data.csv')\n",
        "except:\n",
        "    data = pd.read_csv('https://code.s3.yandex.net/datasets/data.csv')"
      ]
    },
    {
      "cell_type": "code",
      "execution_count": 2,
      "id": "ded0863c",
      "metadata": {
        "deletable": false,
        "id": "ded0863c",
        "outputId": "e4b5307e-fa1b-4198-d97a-06bab965df7c",
        "colab": {
          "base_uri": "https://localhost:8080/",
          "height": 929
        }
      },
      "outputs": [
        {
          "output_type": "execute_result",
          "data": {
            "text/plain": [
              "    children  days_employed  dob_years            education  education_id  \\\n",
              "0          1   -8437.673028         42               высшее             0   \n",
              "1          1   -4024.803754         36              среднее             1   \n",
              "2          0   -5623.422610         33              Среднее             1   \n",
              "3          3   -4124.747207         32              среднее             1   \n",
              "4          0  340266.072047         53              среднее             1   \n",
              "5          0    -926.185831         27               высшее             0   \n",
              "6          0   -2879.202052         43               высшее             0   \n",
              "7          0    -152.779569         50              СРЕДНЕЕ             1   \n",
              "8          2   -6929.865299         35               ВЫСШЕЕ             0   \n",
              "9          0   -2188.756445         41              среднее             1   \n",
              "10         2   -4171.483647         36               высшее             0   \n",
              "11         0    -792.701887         40              среднее             1   \n",
              "12         0            NaN         65              среднее             1   \n",
              "13         0   -1846.641941         54  неоконченное высшее             2   \n",
              "14         0   -1844.956182         56               высшее             0   \n",
              "15         1    -972.364419         26              среднее             1   \n",
              "16         0   -1719.934226         35              среднее             1   \n",
              "17         0   -2369.999720         33               высшее             0   \n",
              "18         0  400281.136913         53              среднее             1   \n",
              "19         0  -10038.818549         48              СРЕДНЕЕ             1   \n",
              "\n",
              "       family_status  family_status_id gender income_type  debt  \\\n",
              "0    женат / замужем                 0      F   сотрудник     0   \n",
              "1    женат / замужем                 0      F   сотрудник     0   \n",
              "2    женат / замужем                 0      M   сотрудник     0   \n",
              "3    женат / замужем                 0      M   сотрудник     0   \n",
              "4   гражданский брак                 1      F   пенсионер     0   \n",
              "5   гражданский брак                 1      M   компаньон     0   \n",
              "6    женат / замужем                 0      F   компаньон     0   \n",
              "7    женат / замужем                 0      M   сотрудник     0   \n",
              "8   гражданский брак                 1      F   сотрудник     0   \n",
              "9    женат / замужем                 0      M   сотрудник     0   \n",
              "10   женат / замужем                 0      M   компаньон     0   \n",
              "11   женат / замужем                 0      F   сотрудник     0   \n",
              "12  гражданский брак                 1      M   пенсионер     0   \n",
              "13   женат / замужем                 0      F   сотрудник     0   \n",
              "14  гражданский брак                 1      F   компаньон     1   \n",
              "15   женат / замужем                 0      F   сотрудник     0   \n",
              "16   женат / замужем                 0      F   сотрудник     0   \n",
              "17  гражданский брак                 1      M   сотрудник     0   \n",
              "18    вдовец / вдова                 2      F   пенсионер     0   \n",
              "19         в разводе                 3      F   сотрудник     0   \n",
              "\n",
              "     total_income                                 purpose  \n",
              "0   253875.639453                           покупка жилья  \n",
              "1   112080.014102                 приобретение автомобиля  \n",
              "2   145885.952297                           покупка жилья  \n",
              "3   267628.550329              дополнительное образование  \n",
              "4   158616.077870                         сыграть свадьбу  \n",
              "5   255763.565419                           покупка жилья  \n",
              "6   240525.971920                       операции с жильем  \n",
              "7   135823.934197                             образование  \n",
              "8    95856.832424                   на проведение свадьбы  \n",
              "9   144425.938277                 покупка жилья для семьи  \n",
              "10  113943.491460                    покупка недвижимости  \n",
              "11   77069.234271       покупка коммерческой недвижимости  \n",
              "12            NaN                         сыграть свадьбу  \n",
              "13  130458.228857                 приобретение автомобиля  \n",
              "14  165127.911772              покупка жилой недвижимости  \n",
              "15  116820.904450  строительство собственной недвижимости  \n",
              "16  289202.704229                            недвижимость  \n",
              "17   90410.586745              строительство недвижимости  \n",
              "18   56823.777243      на покупку подержанного автомобиля  \n",
              "19  242831.107982            на покупку своего автомобиля  "
            ],
            "text/html": [
              "\n",
              "\n",
              "  <div id=\"df-07b5f6ed-6381-4dfb-bf9d-20ccf85b1bf1\">\n",
              "    <div class=\"colab-df-container\">\n",
              "      <div>\n",
              "<style scoped>\n",
              "    .dataframe tbody tr th:only-of-type {\n",
              "        vertical-align: middle;\n",
              "    }\n",
              "\n",
              "    .dataframe tbody tr th {\n",
              "        vertical-align: top;\n",
              "    }\n",
              "\n",
              "    .dataframe thead th {\n",
              "        text-align: right;\n",
              "    }\n",
              "</style>\n",
              "<table border=\"1\" class=\"dataframe\">\n",
              "  <thead>\n",
              "    <tr style=\"text-align: right;\">\n",
              "      <th></th>\n",
              "      <th>children</th>\n",
              "      <th>days_employed</th>\n",
              "      <th>dob_years</th>\n",
              "      <th>education</th>\n",
              "      <th>education_id</th>\n",
              "      <th>family_status</th>\n",
              "      <th>family_status_id</th>\n",
              "      <th>gender</th>\n",
              "      <th>income_type</th>\n",
              "      <th>debt</th>\n",
              "      <th>total_income</th>\n",
              "      <th>purpose</th>\n",
              "    </tr>\n",
              "  </thead>\n",
              "  <tbody>\n",
              "    <tr>\n",
              "      <th>0</th>\n",
              "      <td>1</td>\n",
              "      <td>-8437.673028</td>\n",
              "      <td>42</td>\n",
              "      <td>высшее</td>\n",
              "      <td>0</td>\n",
              "      <td>женат / замужем</td>\n",
              "      <td>0</td>\n",
              "      <td>F</td>\n",
              "      <td>сотрудник</td>\n",
              "      <td>0</td>\n",
              "      <td>253875.639453</td>\n",
              "      <td>покупка жилья</td>\n",
              "    </tr>\n",
              "    <tr>\n",
              "      <th>1</th>\n",
              "      <td>1</td>\n",
              "      <td>-4024.803754</td>\n",
              "      <td>36</td>\n",
              "      <td>среднее</td>\n",
              "      <td>1</td>\n",
              "      <td>женат / замужем</td>\n",
              "      <td>0</td>\n",
              "      <td>F</td>\n",
              "      <td>сотрудник</td>\n",
              "      <td>0</td>\n",
              "      <td>112080.014102</td>\n",
              "      <td>приобретение автомобиля</td>\n",
              "    </tr>\n",
              "    <tr>\n",
              "      <th>2</th>\n",
              "      <td>0</td>\n",
              "      <td>-5623.422610</td>\n",
              "      <td>33</td>\n",
              "      <td>Среднее</td>\n",
              "      <td>1</td>\n",
              "      <td>женат / замужем</td>\n",
              "      <td>0</td>\n",
              "      <td>M</td>\n",
              "      <td>сотрудник</td>\n",
              "      <td>0</td>\n",
              "      <td>145885.952297</td>\n",
              "      <td>покупка жилья</td>\n",
              "    </tr>\n",
              "    <tr>\n",
              "      <th>3</th>\n",
              "      <td>3</td>\n",
              "      <td>-4124.747207</td>\n",
              "      <td>32</td>\n",
              "      <td>среднее</td>\n",
              "      <td>1</td>\n",
              "      <td>женат / замужем</td>\n",
              "      <td>0</td>\n",
              "      <td>M</td>\n",
              "      <td>сотрудник</td>\n",
              "      <td>0</td>\n",
              "      <td>267628.550329</td>\n",
              "      <td>дополнительное образование</td>\n",
              "    </tr>\n",
              "    <tr>\n",
              "      <th>4</th>\n",
              "      <td>0</td>\n",
              "      <td>340266.072047</td>\n",
              "      <td>53</td>\n",
              "      <td>среднее</td>\n",
              "      <td>1</td>\n",
              "      <td>гражданский брак</td>\n",
              "      <td>1</td>\n",
              "      <td>F</td>\n",
              "      <td>пенсионер</td>\n",
              "      <td>0</td>\n",
              "      <td>158616.077870</td>\n",
              "      <td>сыграть свадьбу</td>\n",
              "    </tr>\n",
              "    <tr>\n",
              "      <th>5</th>\n",
              "      <td>0</td>\n",
              "      <td>-926.185831</td>\n",
              "      <td>27</td>\n",
              "      <td>высшее</td>\n",
              "      <td>0</td>\n",
              "      <td>гражданский брак</td>\n",
              "      <td>1</td>\n",
              "      <td>M</td>\n",
              "      <td>компаньон</td>\n",
              "      <td>0</td>\n",
              "      <td>255763.565419</td>\n",
              "      <td>покупка жилья</td>\n",
              "    </tr>\n",
              "    <tr>\n",
              "      <th>6</th>\n",
              "      <td>0</td>\n",
              "      <td>-2879.202052</td>\n",
              "      <td>43</td>\n",
              "      <td>высшее</td>\n",
              "      <td>0</td>\n",
              "      <td>женат / замужем</td>\n",
              "      <td>0</td>\n",
              "      <td>F</td>\n",
              "      <td>компаньон</td>\n",
              "      <td>0</td>\n",
              "      <td>240525.971920</td>\n",
              "      <td>операции с жильем</td>\n",
              "    </tr>\n",
              "    <tr>\n",
              "      <th>7</th>\n",
              "      <td>0</td>\n",
              "      <td>-152.779569</td>\n",
              "      <td>50</td>\n",
              "      <td>СРЕДНЕЕ</td>\n",
              "      <td>1</td>\n",
              "      <td>женат / замужем</td>\n",
              "      <td>0</td>\n",
              "      <td>M</td>\n",
              "      <td>сотрудник</td>\n",
              "      <td>0</td>\n",
              "      <td>135823.934197</td>\n",
              "      <td>образование</td>\n",
              "    </tr>\n",
              "    <tr>\n",
              "      <th>8</th>\n",
              "      <td>2</td>\n",
              "      <td>-6929.865299</td>\n",
              "      <td>35</td>\n",
              "      <td>ВЫСШЕЕ</td>\n",
              "      <td>0</td>\n",
              "      <td>гражданский брак</td>\n",
              "      <td>1</td>\n",
              "      <td>F</td>\n",
              "      <td>сотрудник</td>\n",
              "      <td>0</td>\n",
              "      <td>95856.832424</td>\n",
              "      <td>на проведение свадьбы</td>\n",
              "    </tr>\n",
              "    <tr>\n",
              "      <th>9</th>\n",
              "      <td>0</td>\n",
              "      <td>-2188.756445</td>\n",
              "      <td>41</td>\n",
              "      <td>среднее</td>\n",
              "      <td>1</td>\n",
              "      <td>женат / замужем</td>\n",
              "      <td>0</td>\n",
              "      <td>M</td>\n",
              "      <td>сотрудник</td>\n",
              "      <td>0</td>\n",
              "      <td>144425.938277</td>\n",
              "      <td>покупка жилья для семьи</td>\n",
              "    </tr>\n",
              "    <tr>\n",
              "      <th>10</th>\n",
              "      <td>2</td>\n",
              "      <td>-4171.483647</td>\n",
              "      <td>36</td>\n",
              "      <td>высшее</td>\n",
              "      <td>0</td>\n",
              "      <td>женат / замужем</td>\n",
              "      <td>0</td>\n",
              "      <td>M</td>\n",
              "      <td>компаньон</td>\n",
              "      <td>0</td>\n",
              "      <td>113943.491460</td>\n",
              "      <td>покупка недвижимости</td>\n",
              "    </tr>\n",
              "    <tr>\n",
              "      <th>11</th>\n",
              "      <td>0</td>\n",
              "      <td>-792.701887</td>\n",
              "      <td>40</td>\n",
              "      <td>среднее</td>\n",
              "      <td>1</td>\n",
              "      <td>женат / замужем</td>\n",
              "      <td>0</td>\n",
              "      <td>F</td>\n",
              "      <td>сотрудник</td>\n",
              "      <td>0</td>\n",
              "      <td>77069.234271</td>\n",
              "      <td>покупка коммерческой недвижимости</td>\n",
              "    </tr>\n",
              "    <tr>\n",
              "      <th>12</th>\n",
              "      <td>0</td>\n",
              "      <td>NaN</td>\n",
              "      <td>65</td>\n",
              "      <td>среднее</td>\n",
              "      <td>1</td>\n",
              "      <td>гражданский брак</td>\n",
              "      <td>1</td>\n",
              "      <td>M</td>\n",
              "      <td>пенсионер</td>\n",
              "      <td>0</td>\n",
              "      <td>NaN</td>\n",
              "      <td>сыграть свадьбу</td>\n",
              "    </tr>\n",
              "    <tr>\n",
              "      <th>13</th>\n",
              "      <td>0</td>\n",
              "      <td>-1846.641941</td>\n",
              "      <td>54</td>\n",
              "      <td>неоконченное высшее</td>\n",
              "      <td>2</td>\n",
              "      <td>женат / замужем</td>\n",
              "      <td>0</td>\n",
              "      <td>F</td>\n",
              "      <td>сотрудник</td>\n",
              "      <td>0</td>\n",
              "      <td>130458.228857</td>\n",
              "      <td>приобретение автомобиля</td>\n",
              "    </tr>\n",
              "    <tr>\n",
              "      <th>14</th>\n",
              "      <td>0</td>\n",
              "      <td>-1844.956182</td>\n",
              "      <td>56</td>\n",
              "      <td>высшее</td>\n",
              "      <td>0</td>\n",
              "      <td>гражданский брак</td>\n",
              "      <td>1</td>\n",
              "      <td>F</td>\n",
              "      <td>компаньон</td>\n",
              "      <td>1</td>\n",
              "      <td>165127.911772</td>\n",
              "      <td>покупка жилой недвижимости</td>\n",
              "    </tr>\n",
              "    <tr>\n",
              "      <th>15</th>\n",
              "      <td>1</td>\n",
              "      <td>-972.364419</td>\n",
              "      <td>26</td>\n",
              "      <td>среднее</td>\n",
              "      <td>1</td>\n",
              "      <td>женат / замужем</td>\n",
              "      <td>0</td>\n",
              "      <td>F</td>\n",
              "      <td>сотрудник</td>\n",
              "      <td>0</td>\n",
              "      <td>116820.904450</td>\n",
              "      <td>строительство собственной недвижимости</td>\n",
              "    </tr>\n",
              "    <tr>\n",
              "      <th>16</th>\n",
              "      <td>0</td>\n",
              "      <td>-1719.934226</td>\n",
              "      <td>35</td>\n",
              "      <td>среднее</td>\n",
              "      <td>1</td>\n",
              "      <td>женат / замужем</td>\n",
              "      <td>0</td>\n",
              "      <td>F</td>\n",
              "      <td>сотрудник</td>\n",
              "      <td>0</td>\n",
              "      <td>289202.704229</td>\n",
              "      <td>недвижимость</td>\n",
              "    </tr>\n",
              "    <tr>\n",
              "      <th>17</th>\n",
              "      <td>0</td>\n",
              "      <td>-2369.999720</td>\n",
              "      <td>33</td>\n",
              "      <td>высшее</td>\n",
              "      <td>0</td>\n",
              "      <td>гражданский брак</td>\n",
              "      <td>1</td>\n",
              "      <td>M</td>\n",
              "      <td>сотрудник</td>\n",
              "      <td>0</td>\n",
              "      <td>90410.586745</td>\n",
              "      <td>строительство недвижимости</td>\n",
              "    </tr>\n",
              "    <tr>\n",
              "      <th>18</th>\n",
              "      <td>0</td>\n",
              "      <td>400281.136913</td>\n",
              "      <td>53</td>\n",
              "      <td>среднее</td>\n",
              "      <td>1</td>\n",
              "      <td>вдовец / вдова</td>\n",
              "      <td>2</td>\n",
              "      <td>F</td>\n",
              "      <td>пенсионер</td>\n",
              "      <td>0</td>\n",
              "      <td>56823.777243</td>\n",
              "      <td>на покупку подержанного автомобиля</td>\n",
              "    </tr>\n",
              "    <tr>\n",
              "      <th>19</th>\n",
              "      <td>0</td>\n",
              "      <td>-10038.818549</td>\n",
              "      <td>48</td>\n",
              "      <td>СРЕДНЕЕ</td>\n",
              "      <td>1</td>\n",
              "      <td>в разводе</td>\n",
              "      <td>3</td>\n",
              "      <td>F</td>\n",
              "      <td>сотрудник</td>\n",
              "      <td>0</td>\n",
              "      <td>242831.107982</td>\n",
              "      <td>на покупку своего автомобиля</td>\n",
              "    </tr>\n",
              "  </tbody>\n",
              "</table>\n",
              "</div>\n",
              "      <button class=\"colab-df-convert\" onclick=\"convertToInteractive('df-07b5f6ed-6381-4dfb-bf9d-20ccf85b1bf1')\"\n",
              "              title=\"Convert this dataframe to an interactive table.\"\n",
              "              style=\"display:none;\">\n",
              "\n",
              "  <svg xmlns=\"http://www.w3.org/2000/svg\" height=\"24px\"viewBox=\"0 0 24 24\"\n",
              "       width=\"24px\">\n",
              "    <path d=\"M0 0h24v24H0V0z\" fill=\"none\"/>\n",
              "    <path d=\"M18.56 5.44l.94 2.06.94-2.06 2.06-.94-2.06-.94-.94-2.06-.94 2.06-2.06.94zm-11 1L8.5 8.5l.94-2.06 2.06-.94-2.06-.94L8.5 2.5l-.94 2.06-2.06.94zm10 10l.94 2.06.94-2.06 2.06-.94-2.06-.94-.94-2.06-.94 2.06-2.06.94z\"/><path d=\"M17.41 7.96l-1.37-1.37c-.4-.4-.92-.59-1.43-.59-.52 0-1.04.2-1.43.59L10.3 9.45l-7.72 7.72c-.78.78-.78 2.05 0 2.83L4 21.41c.39.39.9.59 1.41.59.51 0 1.02-.2 1.41-.59l7.78-7.78 2.81-2.81c.8-.78.8-2.07 0-2.86zM5.41 20L4 18.59l7.72-7.72 1.47 1.35L5.41 20z\"/>\n",
              "  </svg>\n",
              "      </button>\n",
              "\n",
              "\n",
              "\n",
              "    <div id=\"df-9bb1232f-07b6-43ec-a04d-0b1f1c8ed5a5\">\n",
              "      <button class=\"colab-df-quickchart\" onclick=\"quickchart('df-9bb1232f-07b6-43ec-a04d-0b1f1c8ed5a5')\"\n",
              "              title=\"Suggest charts.\"\n",
              "              style=\"display:none;\">\n",
              "\n",
              "<svg xmlns=\"http://www.w3.org/2000/svg\" height=\"24px\"viewBox=\"0 0 24 24\"\n",
              "     width=\"24px\">\n",
              "    <g>\n",
              "        <path d=\"M19 3H5c-1.1 0-2 .9-2 2v14c0 1.1.9 2 2 2h14c1.1 0 2-.9 2-2V5c0-1.1-.9-2-2-2zM9 17H7v-7h2v7zm4 0h-2V7h2v10zm4 0h-2v-4h2v4z\"/>\n",
              "    </g>\n",
              "</svg>\n",
              "      </button>\n",
              "    </div>\n",
              "\n",
              "<style>\n",
              "  .colab-df-quickchart {\n",
              "    background-color: #E8F0FE;\n",
              "    border: none;\n",
              "    border-radius: 50%;\n",
              "    cursor: pointer;\n",
              "    display: none;\n",
              "    fill: #1967D2;\n",
              "    height: 32px;\n",
              "    padding: 0 0 0 0;\n",
              "    width: 32px;\n",
              "  }\n",
              "\n",
              "  .colab-df-quickchart:hover {\n",
              "    background-color: #E2EBFA;\n",
              "    box-shadow: 0px 1px 2px rgba(60, 64, 67, 0.3), 0px 1px 3px 1px rgba(60, 64, 67, 0.15);\n",
              "    fill: #174EA6;\n",
              "  }\n",
              "\n",
              "  [theme=dark] .colab-df-quickchart {\n",
              "    background-color: #3B4455;\n",
              "    fill: #D2E3FC;\n",
              "  }\n",
              "\n",
              "  [theme=dark] .colab-df-quickchart:hover {\n",
              "    background-color: #434B5C;\n",
              "    box-shadow: 0px 1px 3px 1px rgba(0, 0, 0, 0.15);\n",
              "    filter: drop-shadow(0px 1px 2px rgba(0, 0, 0, 0.3));\n",
              "    fill: #FFFFFF;\n",
              "  }\n",
              "</style>\n",
              "\n",
              "    <script>\n",
              "      async function quickchart(key) {\n",
              "        const containerElement = document.querySelector('#' + key);\n",
              "        const charts = await google.colab.kernel.invokeFunction(\n",
              "            'suggestCharts', [key], {});\n",
              "      }\n",
              "    </script>\n",
              "\n",
              "      <script>\n",
              "\n",
              "function displayQuickchartButton(domScope) {\n",
              "  let quickchartButtonEl =\n",
              "    domScope.querySelector('#df-9bb1232f-07b6-43ec-a04d-0b1f1c8ed5a5 button.colab-df-quickchart');\n",
              "  quickchartButtonEl.style.display =\n",
              "    google.colab.kernel.accessAllowed ? 'block' : 'none';\n",
              "}\n",
              "\n",
              "        displayQuickchartButton(document);\n",
              "      </script>\n",
              "      <style>\n",
              "    .colab-df-container {\n",
              "      display:flex;\n",
              "      flex-wrap:wrap;\n",
              "      gap: 12px;\n",
              "    }\n",
              "\n",
              "    .colab-df-convert {\n",
              "      background-color: #E8F0FE;\n",
              "      border: none;\n",
              "      border-radius: 50%;\n",
              "      cursor: pointer;\n",
              "      display: none;\n",
              "      fill: #1967D2;\n",
              "      height: 32px;\n",
              "      padding: 0 0 0 0;\n",
              "      width: 32px;\n",
              "    }\n",
              "\n",
              "    .colab-df-convert:hover {\n",
              "      background-color: #E2EBFA;\n",
              "      box-shadow: 0px 1px 2px rgba(60, 64, 67, 0.3), 0px 1px 3px 1px rgba(60, 64, 67, 0.15);\n",
              "      fill: #174EA6;\n",
              "    }\n",
              "\n",
              "    [theme=dark] .colab-df-convert {\n",
              "      background-color: #3B4455;\n",
              "      fill: #D2E3FC;\n",
              "    }\n",
              "\n",
              "    [theme=dark] .colab-df-convert:hover {\n",
              "      background-color: #434B5C;\n",
              "      box-shadow: 0px 1px 3px 1px rgba(0, 0, 0, 0.15);\n",
              "      filter: drop-shadow(0px 1px 2px rgba(0, 0, 0, 0.3));\n",
              "      fill: #FFFFFF;\n",
              "    }\n",
              "  </style>\n",
              "\n",
              "      <script>\n",
              "        const buttonEl =\n",
              "          document.querySelector('#df-07b5f6ed-6381-4dfb-bf9d-20ccf85b1bf1 button.colab-df-convert');\n",
              "        buttonEl.style.display =\n",
              "          google.colab.kernel.accessAllowed ? 'block' : 'none';\n",
              "\n",
              "        async function convertToInteractive(key) {\n",
              "          const element = document.querySelector('#df-07b5f6ed-6381-4dfb-bf9d-20ccf85b1bf1');\n",
              "          const dataTable =\n",
              "            await google.colab.kernel.invokeFunction('convertToInteractive',\n",
              "                                                     [key], {});\n",
              "          if (!dataTable) return;\n",
              "\n",
              "          const docLinkHtml = 'Like what you see? Visit the ' +\n",
              "            '<a target=\"_blank\" href=https://colab.research.google.com/notebooks/data_table.ipynb>data table notebook</a>'\n",
              "            + ' to learn more about interactive tables.';\n",
              "          element.innerHTML = '';\n",
              "          dataTable['output_type'] = 'display_data';\n",
              "          await google.colab.output.renderOutput(dataTable, element);\n",
              "          const docLink = document.createElement('div');\n",
              "          docLink.innerHTML = docLinkHtml;\n",
              "          element.appendChild(docLink);\n",
              "        }\n",
              "      </script>\n",
              "    </div>\n",
              "  </div>\n"
            ]
          },
          "metadata": {},
          "execution_count": 2
        }
      ],
      "source": [
        "data.head(20)"
      ]
    },
    {
      "cell_type": "code",
      "execution_count": 3,
      "id": "9374582e",
      "metadata": {
        "deletable": false,
        "id": "9374582e",
        "outputId": "7d0662c2-5117-451c-f171-b2311c41c22b",
        "colab": {
          "base_uri": "https://localhost:8080/"
        }
      },
      "outputs": [
        {
          "output_type": "stream",
          "name": "stdout",
          "text": [
            "<class 'pandas.core.frame.DataFrame'>\n",
            "RangeIndex: 21525 entries, 0 to 21524\n",
            "Data columns (total 12 columns):\n",
            " #   Column            Non-Null Count  Dtype  \n",
            "---  ------            --------------  -----  \n",
            " 0   children          21525 non-null  int64  \n",
            " 1   days_employed     19351 non-null  float64\n",
            " 2   dob_years         21525 non-null  int64  \n",
            " 3   education         21525 non-null  object \n",
            " 4   education_id      21525 non-null  int64  \n",
            " 5   family_status     21525 non-null  object \n",
            " 6   family_status_id  21525 non-null  int64  \n",
            " 7   gender            21525 non-null  object \n",
            " 8   income_type       21525 non-null  object \n",
            " 9   debt              21525 non-null  int64  \n",
            " 10  total_income      19351 non-null  float64\n",
            " 11  purpose           21525 non-null  object \n",
            "dtypes: float64(2), int64(5), object(5)\n",
            "memory usage: 2.0+ MB\n"
          ]
        }
      ],
      "source": [
        "data.info()"
      ]
    },
    {
      "cell_type": "markdown",
      "id": "6bff42f4",
      "metadata": {
        "deletable": false,
        "editable": false,
        "id": "6bff42f4"
      },
      "source": [
        "## Data Preprocessing"
      ]
    },
    {
      "cell_type": "markdown",
      "id": "58e0f10e",
      "metadata": {
        "deletable": false,
        "editable": false,
        "id": "58e0f10e"
      },
      "source": [
        "### Dealing with missing values"
      ]
    },
    {
      "cell_type": "code",
      "execution_count": 4,
      "id": "bce2018c",
      "metadata": {
        "deletable": false,
        "id": "bce2018c",
        "outputId": "c20e27d5-0cee-42ca-ebf7-069bae217a78",
        "colab": {
          "base_uri": "https://localhost:8080/"
        }
      },
      "outputs": [
        {
          "output_type": "execute_result",
          "data": {
            "text/plain": [
              "children               0\n",
              "days_employed       2174\n",
              "dob_years              0\n",
              "education              0\n",
              "education_id           0\n",
              "family_status          0\n",
              "family_status_id       0\n",
              "gender                 0\n",
              "income_type            0\n",
              "debt                   0\n",
              "total_income        2174\n",
              "purpose                0\n",
              "dtype: int64"
            ]
          },
          "metadata": {},
          "execution_count": 4
        }
      ],
      "source": [
        "# percent of missing values by column\n",
        "data.isna().sum()"
      ]
    },
    {
      "cell_type": "code",
      "execution_count": 5,
      "id": "fcdef36c",
      "metadata": {
        "deletable": false,
        "id": "fcdef36c"
      },
      "outputs": [],
      "source": [
        "# filling missing values in \"total_income\" with a median based on income type\n",
        "for t in data['income_type'].unique():\n",
        "    data.loc[(data['income_type'] == t) & (data['total_income'].isna()), 'total_income'] = \\\n",
        "    data.loc[(data['income_type'] == t), 'total_income'].median()"
      ]
    },
    {
      "cell_type": "markdown",
      "id": "10e08c89",
      "metadata": {
        "deletable": false,
        "editable": false,
        "id": "10e08c89"
      },
      "source": [
        "### Dealing with anomalies"
      ]
    },
    {
      "cell_type": "code",
      "execution_count": 6,
      "id": "51c33ebb",
      "metadata": {
        "deletable": false,
        "id": "51c33ebb"
      },
      "outputs": [],
      "source": [
        "# replacing negative values with absolute value\n",
        "data['days_employed'] = data['days_employed'].abs()"
      ]
    },
    {
      "cell_type": "code",
      "execution_count": 7,
      "id": "0c4c0efa",
      "metadata": {
        "deletable": false,
        "id": "0c4c0efa",
        "outputId": "0b4ad075-bc05-4db5-d301-b0eee984a91b",
        "colab": {
          "base_uri": "https://localhost:8080/"
        }
      },
      "outputs": [
        {
          "output_type": "execute_result",
          "data": {
            "text/plain": [
              "income_type\n",
              "безработный        366413.652744\n",
              "в декрете            3296.759962\n",
              "госслужащий          2689.368353\n",
              "компаньон            1547.382223\n",
              "пенсионер          365213.306266\n",
              "предприниматель       520.848083\n",
              "сотрудник            1574.202821\n",
              "студент               578.751554\n",
              "Name: days_employed, dtype: float64"
            ]
          },
          "metadata": {},
          "execution_count": 7
        }
      ],
      "source": [
        "# calculating the median value of the \"days_employed\" for each employment type\n",
        "data.groupby('income_type')['days_employed'].agg('median')"
      ]
    },
    {
      "cell_type": "markdown",
      "id": "bcd3e9ee",
      "metadata": {
        "deletable": false,
        "editable": false,
        "id": "bcd3e9ee"
      },
      "source": [
        "There are abnormally large values for two types: unemployed and retirees. Fixing such values is difficult, so leaving them as they are."
      ]
    },
    {
      "cell_type": "code",
      "execution_count": 8,
      "id": "7bdc1586",
      "metadata": {
        "deletable": false,
        "id": "7bdc1586",
        "outputId": "212249cc-7d4b-4b46-ede6-11ec9b20f8b3",
        "colab": {
          "base_uri": "https://localhost:8080/"
        }
      },
      "outputs": [
        {
          "output_type": "execute_result",
          "data": {
            "text/plain": [
              "array([ 1,  0,  3,  2, -1,  4, 20,  5])"
            ]
          },
          "metadata": {},
          "execution_count": 8
        }
      ],
      "source": [
        "# unique values in \"children\"\n",
        "data['children'].unique()"
      ]
    },
    {
      "cell_type": "code",
      "execution_count": 9,
      "id": "e71fa188",
      "metadata": {
        "deletable": false,
        "id": "e71fa188"
      },
      "outputs": [],
      "source": [
        "# removing rows with abnormal values\n",
        "data = data[(data['children'] != -1) & (data['children'] != 20)]"
      ]
    },
    {
      "cell_type": "code",
      "execution_count": 10,
      "id": "1104c968",
      "metadata": {
        "deletable": false,
        "id": "1104c968",
        "outputId": "1bae3171-1f79-4c42-fe01-cb4565609341",
        "colab": {
          "base_uri": "https://localhost:8080/"
        }
      },
      "outputs": [
        {
          "output_type": "execute_result",
          "data": {
            "text/plain": [
              "array([1, 0, 3, 2, 4, 5])"
            ]
          },
          "metadata": {},
          "execution_count": 10
        }
      ],
      "source": [
        "data['children'].unique()"
      ]
    },
    {
      "cell_type": "markdown",
      "id": "80fc3a61",
      "metadata": {
        "deletable": false,
        "editable": false,
        "id": "80fc3a61"
      },
      "source": [
        "### Processing the remaining missing values"
      ]
    },
    {
      "cell_type": "markdown",
      "id": "8f66f82b",
      "metadata": {
        "deletable": false,
        "editable": false,
        "id": "8f66f82b"
      },
      "source": [
        "Let's fill in the missing values in the \"days_employed\" column with the median values for each income_type."
      ]
    },
    {
      "cell_type": "code",
      "execution_count": 11,
      "id": "e12c95d7",
      "metadata": {
        "deletable": false,
        "id": "e12c95d7"
      },
      "outputs": [],
      "source": [
        "for t in data['income_type'].unique():\n",
        "    data.loc[(data['income_type'] == t) & (data['days_employed'].isna()), 'days_employed'] = \\\n",
        "    data.loc[(data['income_type'] == t), 'days_employed'].median()"
      ]
    },
    {
      "cell_type": "code",
      "execution_count": 12,
      "id": "0d39b786",
      "metadata": {
        "deletable": false,
        "id": "0d39b786",
        "outputId": "7b93242d-7e99-4fdf-9975-dc43f46e6f04",
        "colab": {
          "base_uri": "https://localhost:8080/"
        }
      },
      "outputs": [
        {
          "output_type": "execute_result",
          "data": {
            "text/plain": [
              "children            0\n",
              "days_employed       0\n",
              "dob_years           0\n",
              "education           0\n",
              "education_id        0\n",
              "family_status       0\n",
              "family_status_id    0\n",
              "gender              0\n",
              "income_type         0\n",
              "debt                0\n",
              "total_income        0\n",
              "purpose             0\n",
              "dtype: int64"
            ]
          },
          "metadata": {},
          "execution_count": 12
        }
      ],
      "source": [
        "# checking that there are no missing values left\n",
        "data.isna().sum()"
      ]
    },
    {
      "cell_type": "markdown",
      "id": "e8d9573c",
      "metadata": {
        "deletable": false,
        "editable": false,
        "id": "e8d9573c"
      },
      "source": [
        "### Data Type Conversion"
      ]
    },
    {
      "cell_type": "markdown",
      "id": "439d1118",
      "metadata": {
        "deletable": false,
        "editable": false,
        "id": "439d1118"
      },
      "source": [
        "Let's convert the data type of the \"total_income\" column from float to integer using the `astype()` method."
      ]
    },
    {
      "cell_type": "code",
      "execution_count": 13,
      "id": "af7dc0ad",
      "metadata": {
        "deletable": false,
        "id": "af7dc0ad"
      },
      "outputs": [],
      "source": [
        "data['total_income'] = data['total_income'].astype(int)"
      ]
    },
    {
      "cell_type": "markdown",
      "id": "5b5e2e0c",
      "metadata": {
        "deletable": false,
        "editable": false,
        "id": "5b5e2e0c"
      },
      "source": [
        "### Duplicates processing"
      ]
    },
    {
      "cell_type": "markdown",
      "id": "350ad1ae",
      "metadata": {
        "deletable": false,
        "editable": false,
        "id": "350ad1ae"
      },
      "source": [
        "Let's handle implicit duplicates in the 'education' column. In this column, there are identical values but written differently, using both uppercase and lowercase letters. We will convert them to lowercase. Next, we will check the remaining columns for duplicates."
      ]
    },
    {
      "cell_type": "code",
      "execution_count": 14,
      "id": "d3f714d8",
      "metadata": {
        "deletable": false,
        "id": "d3f714d8"
      },
      "outputs": [],
      "source": [
        "data['education'] = data['education'].str.lower()"
      ]
    },
    {
      "cell_type": "markdown",
      "id": "88aed640",
      "metadata": {
        "deletable": false,
        "editable": false,
        "id": "88aed640"
      },
      "source": [
        "Let's print the number of duplicate rows in the data and remove them if any exist."
      ]
    },
    {
      "cell_type": "code",
      "execution_count": 15,
      "id": "d1287da9",
      "metadata": {
        "deletable": false,
        "id": "d1287da9",
        "outputId": "185d07f4-b57a-419b-cead-b0da511ff8b6",
        "colab": {
          "base_uri": "https://localhost:8080/"
        }
      },
      "outputs": [
        {
          "output_type": "execute_result",
          "data": {
            "text/plain": [
              "71"
            ]
          },
          "metadata": {},
          "execution_count": 15
        }
      ],
      "source": [
        "data.duplicated().sum()"
      ]
    },
    {
      "cell_type": "code",
      "execution_count": 16,
      "id": "f12c3c93",
      "metadata": {
        "deletable": false,
        "id": "f12c3c93"
      },
      "outputs": [],
      "source": [
        "data = data.drop_duplicates()"
      ]
    },
    {
      "cell_type": "markdown",
      "id": "1b92bd01",
      "metadata": {
        "deletable": false,
        "editable": false,
        "id": "1b92bd01"
      },
      "source": [
        "### Data categorization"
      ]
    },
    {
      "cell_type": "markdown",
      "id": "3bffaa0f",
      "metadata": {
        "deletable": false,
        "editable": false,
        "id": "3bffaa0f"
      },
      "source": [
        "Let's create the \"total_income_category\" column in the \"data\" DataFrame based on the specified income ranges. We will use a custom function called \"categorize_income()\" and apply it using the \"apply()\" method. The function will categorize the incomes according to the given ranges and assign the corresponding category ('E', 'D', 'C', 'B', or 'A')."
      ]
    },
    {
      "cell_type": "code",
      "execution_count": 17,
      "id": "6832dfbb",
      "metadata": {
        "deletable": false,
        "id": "6832dfbb"
      },
      "outputs": [],
      "source": [
        "def categorize_income(income):\n",
        "    try:\n",
        "        if 0 <= income <= 30000:\n",
        "            return 'E'\n",
        "        elif 30001 <= income <= 50000:\n",
        "            return 'D'\n",
        "        elif 50001 <= income <= 200000:\n",
        "            return 'C'\n",
        "        elif 200001 <= income <= 1000000:\n",
        "            return 'B'\n",
        "        elif income >= 1000001:\n",
        "            return 'A'\n",
        "    except:\n",
        "        pass"
      ]
    },
    {
      "cell_type": "code",
      "execution_count": 18,
      "id": "52e96b93",
      "metadata": {
        "deletable": false,
        "id": "52e96b93"
      },
      "outputs": [],
      "source": [
        "data['total_income_category'] = data['total_income'].apply(categorize_income)"
      ]
    },
    {
      "cell_type": "markdown",
      "id": "56e61618",
      "metadata": {
        "deletable": false,
        "editable": false,
        "id": "56e61618"
      },
      "source": [
        "Let's print the unique values of the \"purpose\" column to display the list of unique credit purposes in the dataset."
      ]
    },
    {
      "cell_type": "code",
      "execution_count": 19,
      "id": "16e74cc8",
      "metadata": {
        "deletable": false,
        "id": "16e74cc8",
        "outputId": "1b0bac1d-b596-4fab-f7ae-3b8b1f405ac2",
        "colab": {
          "base_uri": "https://localhost:8080/"
        }
      },
      "outputs": [
        {
          "output_type": "execute_result",
          "data": {
            "text/plain": [
              "array(['покупка жилья', 'приобретение автомобиля',\n",
              "       'дополнительное образование', 'сыграть свадьбу',\n",
              "       'операции с жильем', 'образование', 'на проведение свадьбы',\n",
              "       'покупка жилья для семьи', 'покупка недвижимости',\n",
              "       'покупка коммерческой недвижимости', 'покупка жилой недвижимости',\n",
              "       'строительство собственной недвижимости', 'недвижимость',\n",
              "       'строительство недвижимости', 'на покупку подержанного автомобиля',\n",
              "       'на покупку своего автомобиля',\n",
              "       'операции с коммерческой недвижимостью',\n",
              "       'строительство жилой недвижимости', 'жилье',\n",
              "       'операции со своей недвижимостью', 'автомобили',\n",
              "       'заняться образованием', 'сделка с подержанным автомобилем',\n",
              "       'получение образования', 'автомобиль', 'свадьба',\n",
              "       'получение дополнительного образования', 'покупка своего жилья',\n",
              "       'операции с недвижимостью', 'получение высшего образования',\n",
              "       'свой автомобиль', 'сделка с автомобилем',\n",
              "       'профильное образование', 'высшее образование',\n",
              "       'покупка жилья для сдачи', 'на покупку автомобиля', 'ремонт жилью',\n",
              "       'заняться высшим образованием'], dtype=object)"
            ]
          },
          "metadata": {},
          "execution_count": 19
        }
      ],
      "source": [
        "data['purpose'].unique()"
      ]
    },
    {
      "cell_type": "markdown",
      "id": "953cf91a",
      "metadata": {
        "deletable": false,
        "editable": false,
        "id": "953cf91a"
      },
      "source": [
        "To create the new column purpose_category based on the data from the purpose column, we can define a custom function called categorize_purpose() and use the apply() method to apply this function to each row in the purpose column.\n",
        "\n",
        "The categories are:\n",
        "\n",
        "- `'операции с автомобилем'` (\"car\"),\n",
        "- `'операции с недвижимостью'` (\"real estate\"),\n",
        "- `'проведение свадьбы'` (\"wedding\"),\n",
        "- `'получение образования'` (\"education\")."
      ]
    },
    {
      "cell_type": "code",
      "execution_count": 20,
      "id": "21cd8709",
      "metadata": {
        "deletable": false,
        "id": "21cd8709"
      },
      "outputs": [],
      "source": [
        "def categorize_purpose(row):\n",
        "    try:\n",
        "        if 'автом' in row:\n",
        "            return 'операции с автомобилем'\n",
        "        elif 'жил' in row or 'недвиж' in row:\n",
        "            return 'операции с недвижимостью'\n",
        "        elif 'свад' in row:\n",
        "            return 'проведение свадьбы'\n",
        "        elif 'образов' in row:\n",
        "            return 'получение образования'\n",
        "    except:\n",
        "        return 'нет категории'"
      ]
    },
    {
      "cell_type": "code",
      "execution_count": 21,
      "id": "e8c20c2b",
      "metadata": {
        "deletable": false,
        "id": "e8c20c2b"
      },
      "outputs": [],
      "source": [
        "data['purpose_category'] = data['purpose'].apply(categorize_purpose)"
      ]
    },
    {
      "cell_type": "markdown",
      "id": "ceee54b7",
      "metadata": {
        "deletable": false,
        "editable": false,
        "id": "ceee54b7"
      },
      "source": [
        "### Analysis and conclusions"
      ]
    },
    {
      "cell_type": "markdown",
      "id": "e663b73d",
      "metadata": {
        "deletable": false,
        "editable": false,
        "id": "e663b73d"
      },
      "source": [
        "#### Is there a correlation between the number of children and loan repayment on time?"
      ]
    },
    {
      "cell_type": "code",
      "execution_count": 22,
      "id": "a04d09e0",
      "metadata": {
        "deletable": false,
        "id": "a04d09e0",
        "colab": {
          "base_uri": "https://localhost:8080/",
          "height": 300
        },
        "outputId": "9ad77e47-78c5-45fc-a42f-14a699e49aac"
      },
      "outputs": [
        {
          "output_type": "execute_result",
          "data": {
            "text/plain": [
              "          count   sum  ratio\n",
              "           debt  debt   debt\n",
              "children                    \n",
              "4            41     4  9.76%\n",
              "2          2052   194  9.45%\n",
              "1          4808   444  9.23%\n",
              "3           330    27  8.18%\n",
              "0         14091  1063  7.54%\n",
              "5             9     0   0.0%"
            ],
            "text/html": [
              "\n",
              "\n",
              "  <div id=\"df-5f952841-5fbd-4add-bf41-8d54f6c24c98\">\n",
              "    <div class=\"colab-df-container\">\n",
              "      <div>\n",
              "<style scoped>\n",
              "    .dataframe tbody tr th:only-of-type {\n",
              "        vertical-align: middle;\n",
              "    }\n",
              "\n",
              "    .dataframe tbody tr th {\n",
              "        vertical-align: top;\n",
              "    }\n",
              "\n",
              "    .dataframe thead tr th {\n",
              "        text-align: left;\n",
              "    }\n",
              "\n",
              "    .dataframe thead tr:last-of-type th {\n",
              "        text-align: right;\n",
              "    }\n",
              "</style>\n",
              "<table border=\"1\" class=\"dataframe\">\n",
              "  <thead>\n",
              "    <tr>\n",
              "      <th></th>\n",
              "      <th>count</th>\n",
              "      <th>sum</th>\n",
              "      <th>ratio</th>\n",
              "    </tr>\n",
              "    <tr>\n",
              "      <th></th>\n",
              "      <th>debt</th>\n",
              "      <th>debt</th>\n",
              "      <th>debt</th>\n",
              "    </tr>\n",
              "    <tr>\n",
              "      <th>children</th>\n",
              "      <th></th>\n",
              "      <th></th>\n",
              "      <th></th>\n",
              "    </tr>\n",
              "  </thead>\n",
              "  <tbody>\n",
              "    <tr>\n",
              "      <th>4</th>\n",
              "      <td>41</td>\n",
              "      <td>4</td>\n",
              "      <td>9.76%</td>\n",
              "    </tr>\n",
              "    <tr>\n",
              "      <th>2</th>\n",
              "      <td>2052</td>\n",
              "      <td>194</td>\n",
              "      <td>9.45%</td>\n",
              "    </tr>\n",
              "    <tr>\n",
              "      <th>1</th>\n",
              "      <td>4808</td>\n",
              "      <td>444</td>\n",
              "      <td>9.23%</td>\n",
              "    </tr>\n",
              "    <tr>\n",
              "      <th>3</th>\n",
              "      <td>330</td>\n",
              "      <td>27</td>\n",
              "      <td>8.18%</td>\n",
              "    </tr>\n",
              "    <tr>\n",
              "      <th>0</th>\n",
              "      <td>14091</td>\n",
              "      <td>1063</td>\n",
              "      <td>7.54%</td>\n",
              "    </tr>\n",
              "    <tr>\n",
              "      <th>5</th>\n",
              "      <td>9</td>\n",
              "      <td>0</td>\n",
              "      <td>0.0%</td>\n",
              "    </tr>\n",
              "  </tbody>\n",
              "</table>\n",
              "</div>\n",
              "      <button class=\"colab-df-convert\" onclick=\"convertToInteractive('df-5f952841-5fbd-4add-bf41-8d54f6c24c98')\"\n",
              "              title=\"Convert this dataframe to an interactive table.\"\n",
              "              style=\"display:none;\">\n",
              "\n",
              "  <svg xmlns=\"http://www.w3.org/2000/svg\" height=\"24px\"viewBox=\"0 0 24 24\"\n",
              "       width=\"24px\">\n",
              "    <path d=\"M0 0h24v24H0V0z\" fill=\"none\"/>\n",
              "    <path d=\"M18.56 5.44l.94 2.06.94-2.06 2.06-.94-2.06-.94-.94-2.06-.94 2.06-2.06.94zm-11 1L8.5 8.5l.94-2.06 2.06-.94-2.06-.94L8.5 2.5l-.94 2.06-2.06.94zm10 10l.94 2.06.94-2.06 2.06-.94-2.06-.94-.94-2.06-.94 2.06-2.06.94z\"/><path d=\"M17.41 7.96l-1.37-1.37c-.4-.4-.92-.59-1.43-.59-.52 0-1.04.2-1.43.59L10.3 9.45l-7.72 7.72c-.78.78-.78 2.05 0 2.83L4 21.41c.39.39.9.59 1.41.59.51 0 1.02-.2 1.41-.59l7.78-7.78 2.81-2.81c.8-.78.8-2.07 0-2.86zM5.41 20L4 18.59l7.72-7.72 1.47 1.35L5.41 20z\"/>\n",
              "  </svg>\n",
              "      </button>\n",
              "\n",
              "\n",
              "\n",
              "    <div id=\"df-4cd75945-f79d-4daa-8908-84b8823ea79b\">\n",
              "      <button class=\"colab-df-quickchart\" onclick=\"quickchart('df-4cd75945-f79d-4daa-8908-84b8823ea79b')\"\n",
              "              title=\"Suggest charts.\"\n",
              "              style=\"display:none;\">\n",
              "\n",
              "<svg xmlns=\"http://www.w3.org/2000/svg\" height=\"24px\"viewBox=\"0 0 24 24\"\n",
              "     width=\"24px\">\n",
              "    <g>\n",
              "        <path d=\"M19 3H5c-1.1 0-2 .9-2 2v14c0 1.1.9 2 2 2h14c1.1 0 2-.9 2-2V5c0-1.1-.9-2-2-2zM9 17H7v-7h2v7zm4 0h-2V7h2v10zm4 0h-2v-4h2v4z\"/>\n",
              "    </g>\n",
              "</svg>\n",
              "      </button>\n",
              "    </div>\n",
              "\n",
              "<style>\n",
              "  .colab-df-quickchart {\n",
              "    background-color: #E8F0FE;\n",
              "    border: none;\n",
              "    border-radius: 50%;\n",
              "    cursor: pointer;\n",
              "    display: none;\n",
              "    fill: #1967D2;\n",
              "    height: 32px;\n",
              "    padding: 0 0 0 0;\n",
              "    width: 32px;\n",
              "  }\n",
              "\n",
              "  .colab-df-quickchart:hover {\n",
              "    background-color: #E2EBFA;\n",
              "    box-shadow: 0px 1px 2px rgba(60, 64, 67, 0.3), 0px 1px 3px 1px rgba(60, 64, 67, 0.15);\n",
              "    fill: #174EA6;\n",
              "  }\n",
              "\n",
              "  [theme=dark] .colab-df-quickchart {\n",
              "    background-color: #3B4455;\n",
              "    fill: #D2E3FC;\n",
              "  }\n",
              "\n",
              "  [theme=dark] .colab-df-quickchart:hover {\n",
              "    background-color: #434B5C;\n",
              "    box-shadow: 0px 1px 3px 1px rgba(0, 0, 0, 0.15);\n",
              "    filter: drop-shadow(0px 1px 2px rgba(0, 0, 0, 0.3));\n",
              "    fill: #FFFFFF;\n",
              "  }\n",
              "</style>\n",
              "\n",
              "    <script>\n",
              "      async function quickchart(key) {\n",
              "        const containerElement = document.querySelector('#' + key);\n",
              "        const charts = await google.colab.kernel.invokeFunction(\n",
              "            'suggestCharts', [key], {});\n",
              "      }\n",
              "    </script>\n",
              "\n",
              "      <script>\n",
              "\n",
              "function displayQuickchartButton(domScope) {\n",
              "  let quickchartButtonEl =\n",
              "    domScope.querySelector('#df-4cd75945-f79d-4daa-8908-84b8823ea79b button.colab-df-quickchart');\n",
              "  quickchartButtonEl.style.display =\n",
              "    google.colab.kernel.accessAllowed ? 'block' : 'none';\n",
              "}\n",
              "\n",
              "        displayQuickchartButton(document);\n",
              "      </script>\n",
              "      <style>\n",
              "    .colab-df-container {\n",
              "      display:flex;\n",
              "      flex-wrap:wrap;\n",
              "      gap: 12px;\n",
              "    }\n",
              "\n",
              "    .colab-df-convert {\n",
              "      background-color: #E8F0FE;\n",
              "      border: none;\n",
              "      border-radius: 50%;\n",
              "      cursor: pointer;\n",
              "      display: none;\n",
              "      fill: #1967D2;\n",
              "      height: 32px;\n",
              "      padding: 0 0 0 0;\n",
              "      width: 32px;\n",
              "    }\n",
              "\n",
              "    .colab-df-convert:hover {\n",
              "      background-color: #E2EBFA;\n",
              "      box-shadow: 0px 1px 2px rgba(60, 64, 67, 0.3), 0px 1px 3px 1px rgba(60, 64, 67, 0.15);\n",
              "      fill: #174EA6;\n",
              "    }\n",
              "\n",
              "    [theme=dark] .colab-df-convert {\n",
              "      background-color: #3B4455;\n",
              "      fill: #D2E3FC;\n",
              "    }\n",
              "\n",
              "    [theme=dark] .colab-df-convert:hover {\n",
              "      background-color: #434B5C;\n",
              "      box-shadow: 0px 1px 3px 1px rgba(0, 0, 0, 0.15);\n",
              "      filter: drop-shadow(0px 1px 2px rgba(0, 0, 0, 0.3));\n",
              "      fill: #FFFFFF;\n",
              "    }\n",
              "  </style>\n",
              "\n",
              "      <script>\n",
              "        const buttonEl =\n",
              "          document.querySelector('#df-5f952841-5fbd-4add-bf41-8d54f6c24c98 button.colab-df-convert');\n",
              "        buttonEl.style.display =\n",
              "          google.colab.kernel.accessAllowed ? 'block' : 'none';\n",
              "\n",
              "        async function convertToInteractive(key) {\n",
              "          const element = document.querySelector('#df-5f952841-5fbd-4add-bf41-8d54f6c24c98');\n",
              "          const dataTable =\n",
              "            await google.colab.kernel.invokeFunction('convertToInteractive',\n",
              "                                                     [key], {});\n",
              "          if (!dataTable) return;\n",
              "\n",
              "          const docLinkHtml = 'Like what you see? Visit the ' +\n",
              "            '<a target=\"_blank\" href=https://colab.research.google.com/notebooks/data_table.ipynb>data table notebook</a>'\n",
              "            + ' to learn more about interactive tables.';\n",
              "          element.innerHTML = '';\n",
              "          dataTable['output_type'] = 'display_data';\n",
              "          await google.colab.output.renderOutput(dataTable, element);\n",
              "          const docLink = document.createElement('div');\n",
              "          docLink.innerHTML = docLinkHtml;\n",
              "          element.appendChild(docLink);\n",
              "        }\n",
              "      </script>\n",
              "    </div>\n",
              "  </div>\n"
            ]
          },
          "metadata": {},
          "execution_count": 22
        }
      ],
      "source": [
        "# creating a function for calculating the percentage ratio of a sum to a quantity\n",
        "def ratio(value):\n",
        "    return str(round((value.sum() / value.count()) * 100, 2)) + '%'\n",
        "\n",
        "# creating a pivot table\n",
        "pivoted = data.pivot_table(index = 'children', values = 'debt', aggfunc = ['count', 'sum', ratio])\n",
        "\n",
        "# the result in descending order of the percentage of overdue loans\n",
        "pivoted.sort_values(by=('ratio', 'debt'), ascending = False)"
      ]
    },
    {
      "cell_type": "markdown",
      "id": "c555c884",
      "metadata": {
        "deletable": false,
        "id": "c555c884"
      },
      "source": [
        "There is a correlation between the number of children and loan repayment: in general, clients with more children tend to have a higher number of overdue payments. However, clients with 5 children have no overdue payments, but there are only 9 such families in the sample, which makes the data for them less representative. Also, families with three children have a better repayment rate compared to families with one child. For a more accurate analysis, it would be helpful to have a larger sample of clients with three children. Clients with no children have the lowest percentage of overdue payments, excluding families with 5 children."
      ]
    },
    {
      "cell_type": "markdown",
      "id": "e4f8002d",
      "metadata": {
        "deletable": false,
        "editable": false,
        "id": "e4f8002d"
      },
      "source": [
        "#### Is there a correlation between marital status and timely loan repayment?"
      ]
    },
    {
      "cell_type": "code",
      "execution_count": 23,
      "id": "7c5c7a63",
      "metadata": {
        "deletable": false,
        "id": "7c5c7a63",
        "colab": {
          "base_uri": "https://localhost:8080/",
          "height": 269
        },
        "outputId": "8fe3b282-1297-4c99-a4cf-08413fd64f1d"
      },
      "outputs": [
        {
          "output_type": "execute_result",
          "data": {
            "text/plain": [
              "                       count  sum  ratio\n",
              "                        debt debt   debt\n",
              "family_status                           \n",
              "Не женат / не замужем   2796  273  9.76%\n",
              "гражданский брак        4134  385  9.31%\n",
              "женат / замужем        12261  927  7.56%\n",
              "в разводе               1189   84  7.06%\n",
              "вдовец / вдова           951   63  6.62%"
            ],
            "text/html": [
              "\n",
              "\n",
              "  <div id=\"df-5de89d74-c87c-4390-888f-c4e51e60abfd\">\n",
              "    <div class=\"colab-df-container\">\n",
              "      <div>\n",
              "<style scoped>\n",
              "    .dataframe tbody tr th:only-of-type {\n",
              "        vertical-align: middle;\n",
              "    }\n",
              "\n",
              "    .dataframe tbody tr th {\n",
              "        vertical-align: top;\n",
              "    }\n",
              "\n",
              "    .dataframe thead tr th {\n",
              "        text-align: left;\n",
              "    }\n",
              "\n",
              "    .dataframe thead tr:last-of-type th {\n",
              "        text-align: right;\n",
              "    }\n",
              "</style>\n",
              "<table border=\"1\" class=\"dataframe\">\n",
              "  <thead>\n",
              "    <tr>\n",
              "      <th></th>\n",
              "      <th>count</th>\n",
              "      <th>sum</th>\n",
              "      <th>ratio</th>\n",
              "    </tr>\n",
              "    <tr>\n",
              "      <th></th>\n",
              "      <th>debt</th>\n",
              "      <th>debt</th>\n",
              "      <th>debt</th>\n",
              "    </tr>\n",
              "    <tr>\n",
              "      <th>family_status</th>\n",
              "      <th></th>\n",
              "      <th></th>\n",
              "      <th></th>\n",
              "    </tr>\n",
              "  </thead>\n",
              "  <tbody>\n",
              "    <tr>\n",
              "      <th>Не женат / не замужем</th>\n",
              "      <td>2796</td>\n",
              "      <td>273</td>\n",
              "      <td>9.76%</td>\n",
              "    </tr>\n",
              "    <tr>\n",
              "      <th>гражданский брак</th>\n",
              "      <td>4134</td>\n",
              "      <td>385</td>\n",
              "      <td>9.31%</td>\n",
              "    </tr>\n",
              "    <tr>\n",
              "      <th>женат / замужем</th>\n",
              "      <td>12261</td>\n",
              "      <td>927</td>\n",
              "      <td>7.56%</td>\n",
              "    </tr>\n",
              "    <tr>\n",
              "      <th>в разводе</th>\n",
              "      <td>1189</td>\n",
              "      <td>84</td>\n",
              "      <td>7.06%</td>\n",
              "    </tr>\n",
              "    <tr>\n",
              "      <th>вдовец / вдова</th>\n",
              "      <td>951</td>\n",
              "      <td>63</td>\n",
              "      <td>6.62%</td>\n",
              "    </tr>\n",
              "  </tbody>\n",
              "</table>\n",
              "</div>\n",
              "      <button class=\"colab-df-convert\" onclick=\"convertToInteractive('df-5de89d74-c87c-4390-888f-c4e51e60abfd')\"\n",
              "              title=\"Convert this dataframe to an interactive table.\"\n",
              "              style=\"display:none;\">\n",
              "\n",
              "  <svg xmlns=\"http://www.w3.org/2000/svg\" height=\"24px\"viewBox=\"0 0 24 24\"\n",
              "       width=\"24px\">\n",
              "    <path d=\"M0 0h24v24H0V0z\" fill=\"none\"/>\n",
              "    <path d=\"M18.56 5.44l.94 2.06.94-2.06 2.06-.94-2.06-.94-.94-2.06-.94 2.06-2.06.94zm-11 1L8.5 8.5l.94-2.06 2.06-.94-2.06-.94L8.5 2.5l-.94 2.06-2.06.94zm10 10l.94 2.06.94-2.06 2.06-.94-2.06-.94-.94-2.06-.94 2.06-2.06.94z\"/><path d=\"M17.41 7.96l-1.37-1.37c-.4-.4-.92-.59-1.43-.59-.52 0-1.04.2-1.43.59L10.3 9.45l-7.72 7.72c-.78.78-.78 2.05 0 2.83L4 21.41c.39.39.9.59 1.41.59.51 0 1.02-.2 1.41-.59l7.78-7.78 2.81-2.81c.8-.78.8-2.07 0-2.86zM5.41 20L4 18.59l7.72-7.72 1.47 1.35L5.41 20z\"/>\n",
              "  </svg>\n",
              "      </button>\n",
              "\n",
              "\n",
              "\n",
              "    <div id=\"df-f1ee2dbf-3123-43f7-ac01-551ce9847aa7\">\n",
              "      <button class=\"colab-df-quickchart\" onclick=\"quickchart('df-f1ee2dbf-3123-43f7-ac01-551ce9847aa7')\"\n",
              "              title=\"Suggest charts.\"\n",
              "              style=\"display:none;\">\n",
              "\n",
              "<svg xmlns=\"http://www.w3.org/2000/svg\" height=\"24px\"viewBox=\"0 0 24 24\"\n",
              "     width=\"24px\">\n",
              "    <g>\n",
              "        <path d=\"M19 3H5c-1.1 0-2 .9-2 2v14c0 1.1.9 2 2 2h14c1.1 0 2-.9 2-2V5c0-1.1-.9-2-2-2zM9 17H7v-7h2v7zm4 0h-2V7h2v10zm4 0h-2v-4h2v4z\"/>\n",
              "    </g>\n",
              "</svg>\n",
              "      </button>\n",
              "    </div>\n",
              "\n",
              "<style>\n",
              "  .colab-df-quickchart {\n",
              "    background-color: #E8F0FE;\n",
              "    border: none;\n",
              "    border-radius: 50%;\n",
              "    cursor: pointer;\n",
              "    display: none;\n",
              "    fill: #1967D2;\n",
              "    height: 32px;\n",
              "    padding: 0 0 0 0;\n",
              "    width: 32px;\n",
              "  }\n",
              "\n",
              "  .colab-df-quickchart:hover {\n",
              "    background-color: #E2EBFA;\n",
              "    box-shadow: 0px 1px 2px rgba(60, 64, 67, 0.3), 0px 1px 3px 1px rgba(60, 64, 67, 0.15);\n",
              "    fill: #174EA6;\n",
              "  }\n",
              "\n",
              "  [theme=dark] .colab-df-quickchart {\n",
              "    background-color: #3B4455;\n",
              "    fill: #D2E3FC;\n",
              "  }\n",
              "\n",
              "  [theme=dark] .colab-df-quickchart:hover {\n",
              "    background-color: #434B5C;\n",
              "    box-shadow: 0px 1px 3px 1px rgba(0, 0, 0, 0.15);\n",
              "    filter: drop-shadow(0px 1px 2px rgba(0, 0, 0, 0.3));\n",
              "    fill: #FFFFFF;\n",
              "  }\n",
              "</style>\n",
              "\n",
              "    <script>\n",
              "      async function quickchart(key) {\n",
              "        const containerElement = document.querySelector('#' + key);\n",
              "        const charts = await google.colab.kernel.invokeFunction(\n",
              "            'suggestCharts', [key], {});\n",
              "      }\n",
              "    </script>\n",
              "\n",
              "      <script>\n",
              "\n",
              "function displayQuickchartButton(domScope) {\n",
              "  let quickchartButtonEl =\n",
              "    domScope.querySelector('#df-f1ee2dbf-3123-43f7-ac01-551ce9847aa7 button.colab-df-quickchart');\n",
              "  quickchartButtonEl.style.display =\n",
              "    google.colab.kernel.accessAllowed ? 'block' : 'none';\n",
              "}\n",
              "\n",
              "        displayQuickchartButton(document);\n",
              "      </script>\n",
              "      <style>\n",
              "    .colab-df-container {\n",
              "      display:flex;\n",
              "      flex-wrap:wrap;\n",
              "      gap: 12px;\n",
              "    }\n",
              "\n",
              "    .colab-df-convert {\n",
              "      background-color: #E8F0FE;\n",
              "      border: none;\n",
              "      border-radius: 50%;\n",
              "      cursor: pointer;\n",
              "      display: none;\n",
              "      fill: #1967D2;\n",
              "      height: 32px;\n",
              "      padding: 0 0 0 0;\n",
              "      width: 32px;\n",
              "    }\n",
              "\n",
              "    .colab-df-convert:hover {\n",
              "      background-color: #E2EBFA;\n",
              "      box-shadow: 0px 1px 2px rgba(60, 64, 67, 0.3), 0px 1px 3px 1px rgba(60, 64, 67, 0.15);\n",
              "      fill: #174EA6;\n",
              "    }\n",
              "\n",
              "    [theme=dark] .colab-df-convert {\n",
              "      background-color: #3B4455;\n",
              "      fill: #D2E3FC;\n",
              "    }\n",
              "\n",
              "    [theme=dark] .colab-df-convert:hover {\n",
              "      background-color: #434B5C;\n",
              "      box-shadow: 0px 1px 3px 1px rgba(0, 0, 0, 0.15);\n",
              "      filter: drop-shadow(0px 1px 2px rgba(0, 0, 0, 0.3));\n",
              "      fill: #FFFFFF;\n",
              "    }\n",
              "  </style>\n",
              "\n",
              "      <script>\n",
              "        const buttonEl =\n",
              "          document.querySelector('#df-5de89d74-c87c-4390-888f-c4e51e60abfd button.colab-df-convert');\n",
              "        buttonEl.style.display =\n",
              "          google.colab.kernel.accessAllowed ? 'block' : 'none';\n",
              "\n",
              "        async function convertToInteractive(key) {\n",
              "          const element = document.querySelector('#df-5de89d74-c87c-4390-888f-c4e51e60abfd');\n",
              "          const dataTable =\n",
              "            await google.colab.kernel.invokeFunction('convertToInteractive',\n",
              "                                                     [key], {});\n",
              "          if (!dataTable) return;\n",
              "\n",
              "          const docLinkHtml = 'Like what you see? Visit the ' +\n",
              "            '<a target=\"_blank\" href=https://colab.research.google.com/notebooks/data_table.ipynb>data table notebook</a>'\n",
              "            + ' to learn more about interactive tables.';\n",
              "          element.innerHTML = '';\n",
              "          dataTable['output_type'] = 'display_data';\n",
              "          await google.colab.output.renderOutput(dataTable, element);\n",
              "          const docLink = document.createElement('div');\n",
              "          docLink.innerHTML = docLinkHtml;\n",
              "          element.appendChild(docLink);\n",
              "        }\n",
              "      </script>\n",
              "    </div>\n",
              "  </div>\n"
            ]
          },
          "metadata": {},
          "execution_count": 23
        }
      ],
      "source": [
        "# creating a pivot table\n",
        "pivoted = data.pivot_table(index = 'family_status', values = 'debt', aggfunc = ['count', 'sum', ratio])\n",
        "\n",
        "# the result in descending order of the percentage of overdue loans\n",
        "pivoted.sort_values(by=('ratio', 'debt'), ascending = False)"
      ]
    },
    {
      "cell_type": "code",
      "execution_count": 24,
      "id": "d600367b",
      "metadata": {
        "colab": {
          "base_uri": "https://localhost:8080/"
        },
        "id": "d600367b",
        "outputId": "7fbf3288-3b63-4444-b00a-d1a0b7f9495d"
      },
      "outputs": [
        {
          "output_type": "execute_result",
          "data": {
            "text/plain": [
              "56"
            ]
          },
          "metadata": {},
          "execution_count": 24
        }
      ],
      "source": [
        "# calculating median age of widows/widowers\n",
        "int(data.loc[data['family_status']=='вдовец / вдова', 'dob_years'].mean())"
      ]
    },
    {
      "cell_type": "markdown",
      "id": "fb9bb824",
      "metadata": {
        "deletable": false,
        "id": "fb9bb824"
      },
      "source": [
        "There is a correlation between marital status and timely loan repayment. The highest percentage of clients with overdue loans is among unmarried individuals. Clients who are or have been married have better repayment rates. The lowest percentage of overdue loans is among widows and widowers, but this category is the least represented. Since the median age among widowed individuals is 56 years, it can be assumed that they mostly have stable financial situations, which contributes to on-time loan repayment.\n"
      ]
    },
    {
      "cell_type": "markdown",
      "id": "f79acf59",
      "metadata": {
        "deletable": false,
        "editable": false,
        "id": "f79acf59"
      },
      "source": [
        "#### Is there a correlation between income level and loan repayment on time?"
      ]
    },
    {
      "cell_type": "code",
      "execution_count": 25,
      "id": "e52176a7",
      "metadata": {
        "deletable": false,
        "id": "e52176a7",
        "colab": {
          "base_uri": "https://localhost:8080/",
          "height": 269
        },
        "outputId": "1f9a2389-04a5-4c8b-c4b8-c4debb1fdc12"
      },
      "outputs": [
        {
          "output_type": "execute_result",
          "data": {
            "text/plain": [
              "                       count   sum  ratio\n",
              "                        debt  debt   debt\n",
              "total_income_category                    \n",
              "E                         22     2  9.09%\n",
              "C                      15921  1353   8.5%\n",
              "A                         25     2   8.0%\n",
              "B                       5014   354  7.06%\n",
              "D                        349    21  6.02%"
            ],
            "text/html": [
              "\n",
              "\n",
              "  <div id=\"df-bde38a35-156b-407e-beeb-c04c092e9f23\">\n",
              "    <div class=\"colab-df-container\">\n",
              "      <div>\n",
              "<style scoped>\n",
              "    .dataframe tbody tr th:only-of-type {\n",
              "        vertical-align: middle;\n",
              "    }\n",
              "\n",
              "    .dataframe tbody tr th {\n",
              "        vertical-align: top;\n",
              "    }\n",
              "\n",
              "    .dataframe thead tr th {\n",
              "        text-align: left;\n",
              "    }\n",
              "\n",
              "    .dataframe thead tr:last-of-type th {\n",
              "        text-align: right;\n",
              "    }\n",
              "</style>\n",
              "<table border=\"1\" class=\"dataframe\">\n",
              "  <thead>\n",
              "    <tr>\n",
              "      <th></th>\n",
              "      <th>count</th>\n",
              "      <th>sum</th>\n",
              "      <th>ratio</th>\n",
              "    </tr>\n",
              "    <tr>\n",
              "      <th></th>\n",
              "      <th>debt</th>\n",
              "      <th>debt</th>\n",
              "      <th>debt</th>\n",
              "    </tr>\n",
              "    <tr>\n",
              "      <th>total_income_category</th>\n",
              "      <th></th>\n",
              "      <th></th>\n",
              "      <th></th>\n",
              "    </tr>\n",
              "  </thead>\n",
              "  <tbody>\n",
              "    <tr>\n",
              "      <th>E</th>\n",
              "      <td>22</td>\n",
              "      <td>2</td>\n",
              "      <td>9.09%</td>\n",
              "    </tr>\n",
              "    <tr>\n",
              "      <th>C</th>\n",
              "      <td>15921</td>\n",
              "      <td>1353</td>\n",
              "      <td>8.5%</td>\n",
              "    </tr>\n",
              "    <tr>\n",
              "      <th>A</th>\n",
              "      <td>25</td>\n",
              "      <td>2</td>\n",
              "      <td>8.0%</td>\n",
              "    </tr>\n",
              "    <tr>\n",
              "      <th>B</th>\n",
              "      <td>5014</td>\n",
              "      <td>354</td>\n",
              "      <td>7.06%</td>\n",
              "    </tr>\n",
              "    <tr>\n",
              "      <th>D</th>\n",
              "      <td>349</td>\n",
              "      <td>21</td>\n",
              "      <td>6.02%</td>\n",
              "    </tr>\n",
              "  </tbody>\n",
              "</table>\n",
              "</div>\n",
              "      <button class=\"colab-df-convert\" onclick=\"convertToInteractive('df-bde38a35-156b-407e-beeb-c04c092e9f23')\"\n",
              "              title=\"Convert this dataframe to an interactive table.\"\n",
              "              style=\"display:none;\">\n",
              "\n",
              "  <svg xmlns=\"http://www.w3.org/2000/svg\" height=\"24px\"viewBox=\"0 0 24 24\"\n",
              "       width=\"24px\">\n",
              "    <path d=\"M0 0h24v24H0V0z\" fill=\"none\"/>\n",
              "    <path d=\"M18.56 5.44l.94 2.06.94-2.06 2.06-.94-2.06-.94-.94-2.06-.94 2.06-2.06.94zm-11 1L8.5 8.5l.94-2.06 2.06-.94-2.06-.94L8.5 2.5l-.94 2.06-2.06.94zm10 10l.94 2.06.94-2.06 2.06-.94-2.06-.94-.94-2.06-.94 2.06-2.06.94z\"/><path d=\"M17.41 7.96l-1.37-1.37c-.4-.4-.92-.59-1.43-.59-.52 0-1.04.2-1.43.59L10.3 9.45l-7.72 7.72c-.78.78-.78 2.05 0 2.83L4 21.41c.39.39.9.59 1.41.59.51 0 1.02-.2 1.41-.59l7.78-7.78 2.81-2.81c.8-.78.8-2.07 0-2.86zM5.41 20L4 18.59l7.72-7.72 1.47 1.35L5.41 20z\"/>\n",
              "  </svg>\n",
              "      </button>\n",
              "\n",
              "\n",
              "\n",
              "    <div id=\"df-b77ab6f8-d1a2-4f28-8911-f0e34889bcc6\">\n",
              "      <button class=\"colab-df-quickchart\" onclick=\"quickchart('df-b77ab6f8-d1a2-4f28-8911-f0e34889bcc6')\"\n",
              "              title=\"Suggest charts.\"\n",
              "              style=\"display:none;\">\n",
              "\n",
              "<svg xmlns=\"http://www.w3.org/2000/svg\" height=\"24px\"viewBox=\"0 0 24 24\"\n",
              "     width=\"24px\">\n",
              "    <g>\n",
              "        <path d=\"M19 3H5c-1.1 0-2 .9-2 2v14c0 1.1.9 2 2 2h14c1.1 0 2-.9 2-2V5c0-1.1-.9-2-2-2zM9 17H7v-7h2v7zm4 0h-2V7h2v10zm4 0h-2v-4h2v4z\"/>\n",
              "    </g>\n",
              "</svg>\n",
              "      </button>\n",
              "    </div>\n",
              "\n",
              "<style>\n",
              "  .colab-df-quickchart {\n",
              "    background-color: #E8F0FE;\n",
              "    border: none;\n",
              "    border-radius: 50%;\n",
              "    cursor: pointer;\n",
              "    display: none;\n",
              "    fill: #1967D2;\n",
              "    height: 32px;\n",
              "    padding: 0 0 0 0;\n",
              "    width: 32px;\n",
              "  }\n",
              "\n",
              "  .colab-df-quickchart:hover {\n",
              "    background-color: #E2EBFA;\n",
              "    box-shadow: 0px 1px 2px rgba(60, 64, 67, 0.3), 0px 1px 3px 1px rgba(60, 64, 67, 0.15);\n",
              "    fill: #174EA6;\n",
              "  }\n",
              "\n",
              "  [theme=dark] .colab-df-quickchart {\n",
              "    background-color: #3B4455;\n",
              "    fill: #D2E3FC;\n",
              "  }\n",
              "\n",
              "  [theme=dark] .colab-df-quickchart:hover {\n",
              "    background-color: #434B5C;\n",
              "    box-shadow: 0px 1px 3px 1px rgba(0, 0, 0, 0.15);\n",
              "    filter: drop-shadow(0px 1px 2px rgba(0, 0, 0, 0.3));\n",
              "    fill: #FFFFFF;\n",
              "  }\n",
              "</style>\n",
              "\n",
              "    <script>\n",
              "      async function quickchart(key) {\n",
              "        const containerElement = document.querySelector('#' + key);\n",
              "        const charts = await google.colab.kernel.invokeFunction(\n",
              "            'suggestCharts', [key], {});\n",
              "      }\n",
              "    </script>\n",
              "\n",
              "      <script>\n",
              "\n",
              "function displayQuickchartButton(domScope) {\n",
              "  let quickchartButtonEl =\n",
              "    domScope.querySelector('#df-b77ab6f8-d1a2-4f28-8911-f0e34889bcc6 button.colab-df-quickchart');\n",
              "  quickchartButtonEl.style.display =\n",
              "    google.colab.kernel.accessAllowed ? 'block' : 'none';\n",
              "}\n",
              "\n",
              "        displayQuickchartButton(document);\n",
              "      </script>\n",
              "      <style>\n",
              "    .colab-df-container {\n",
              "      display:flex;\n",
              "      flex-wrap:wrap;\n",
              "      gap: 12px;\n",
              "    }\n",
              "\n",
              "    .colab-df-convert {\n",
              "      background-color: #E8F0FE;\n",
              "      border: none;\n",
              "      border-radius: 50%;\n",
              "      cursor: pointer;\n",
              "      display: none;\n",
              "      fill: #1967D2;\n",
              "      height: 32px;\n",
              "      padding: 0 0 0 0;\n",
              "      width: 32px;\n",
              "    }\n",
              "\n",
              "    .colab-df-convert:hover {\n",
              "      background-color: #E2EBFA;\n",
              "      box-shadow: 0px 1px 2px rgba(60, 64, 67, 0.3), 0px 1px 3px 1px rgba(60, 64, 67, 0.15);\n",
              "      fill: #174EA6;\n",
              "    }\n",
              "\n",
              "    [theme=dark] .colab-df-convert {\n",
              "      background-color: #3B4455;\n",
              "      fill: #D2E3FC;\n",
              "    }\n",
              "\n",
              "    [theme=dark] .colab-df-convert:hover {\n",
              "      background-color: #434B5C;\n",
              "      box-shadow: 0px 1px 3px 1px rgba(0, 0, 0, 0.15);\n",
              "      filter: drop-shadow(0px 1px 2px rgba(0, 0, 0, 0.3));\n",
              "      fill: #FFFFFF;\n",
              "    }\n",
              "  </style>\n",
              "\n",
              "      <script>\n",
              "        const buttonEl =\n",
              "          document.querySelector('#df-bde38a35-156b-407e-beeb-c04c092e9f23 button.colab-df-convert');\n",
              "        buttonEl.style.display =\n",
              "          google.colab.kernel.accessAllowed ? 'block' : 'none';\n",
              "\n",
              "        async function convertToInteractive(key) {\n",
              "          const element = document.querySelector('#df-bde38a35-156b-407e-beeb-c04c092e9f23');\n",
              "          const dataTable =\n",
              "            await google.colab.kernel.invokeFunction('convertToInteractive',\n",
              "                                                     [key], {});\n",
              "          if (!dataTable) return;\n",
              "\n",
              "          const docLinkHtml = 'Like what you see? Visit the ' +\n",
              "            '<a target=\"_blank\" href=https://colab.research.google.com/notebooks/data_table.ipynb>data table notebook</a>'\n",
              "            + ' to learn more about interactive tables.';\n",
              "          element.innerHTML = '';\n",
              "          dataTable['output_type'] = 'display_data';\n",
              "          await google.colab.output.renderOutput(dataTable, element);\n",
              "          const docLink = document.createElement('div');\n",
              "          docLink.innerHTML = docLinkHtml;\n",
              "          element.appendChild(docLink);\n",
              "        }\n",
              "      </script>\n",
              "    </div>\n",
              "  </div>\n"
            ]
          },
          "metadata": {},
          "execution_count": 25
        }
      ],
      "source": [
        "# categories:\n",
        "# 0–30000 — 'E';\n",
        "# 30001–50000 — 'D';\n",
        "# 50001–200000 — 'C';\n",
        "# 200001–1000000 — 'B';\n",
        "# 1000001 and higher — 'A'.\n",
        "\n",
        "# creating a pivot table\n",
        "pivoted = data.pivot_table(index = 'total_income_category', values = 'debt', aggfunc = ['count', 'sum', ratio])\n",
        "\n",
        "# the result in descending order of the percentage of overdue loans\n",
        "pivoted.sort_values(by=('ratio', 'debt'), ascending = False)"
      ]
    },
    {
      "cell_type": "markdown",
      "id": "3a0cddc8",
      "metadata": {
        "deletable": false,
        "id": "3a0cddc8"
      },
      "source": [
        "The probability of loan default is highest among clients with income less than 30,000. For clients whose income exceeds this amount, there are no clear patterns or correlations with loan repayment."
      ]
    },
    {
      "cell_type": "markdown",
      "id": "c4c8fd1b",
      "metadata": {
        "deletable": false,
        "editable": false,
        "id": "c4c8fd1b"
      },
      "source": [
        "#### How different credit purposes affect their timely repayment?"
      ]
    },
    {
      "cell_type": "code",
      "execution_count": 26,
      "id": "c95e5874",
      "metadata": {
        "deletable": false,
        "id": "c95e5874",
        "colab": {
          "base_uri": "https://localhost:8080/",
          "height": 238
        },
        "outputId": "5f13c64b-42a7-48ee-8308-b1625eb4a974"
      },
      "outputs": [
        {
          "output_type": "execute_result",
          "data": {
            "text/plain": [
              "                          count  sum  ratio\n",
              "                           debt debt   debt\n",
              "purpose_category                           \n",
              "операции с автомобилем     4279  400  9.35%\n",
              "получение образования      3988  369  9.25%\n",
              "проведение свадьбы         2313  183  7.91%\n",
              "операции с недвижимостью  10751  780  7.26%"
            ],
            "text/html": [
              "\n",
              "\n",
              "  <div id=\"df-5244f983-78e4-422c-822b-58019720d71a\">\n",
              "    <div class=\"colab-df-container\">\n",
              "      <div>\n",
              "<style scoped>\n",
              "    .dataframe tbody tr th:only-of-type {\n",
              "        vertical-align: middle;\n",
              "    }\n",
              "\n",
              "    .dataframe tbody tr th {\n",
              "        vertical-align: top;\n",
              "    }\n",
              "\n",
              "    .dataframe thead tr th {\n",
              "        text-align: left;\n",
              "    }\n",
              "\n",
              "    .dataframe thead tr:last-of-type th {\n",
              "        text-align: right;\n",
              "    }\n",
              "</style>\n",
              "<table border=\"1\" class=\"dataframe\">\n",
              "  <thead>\n",
              "    <tr>\n",
              "      <th></th>\n",
              "      <th>count</th>\n",
              "      <th>sum</th>\n",
              "      <th>ratio</th>\n",
              "    </tr>\n",
              "    <tr>\n",
              "      <th></th>\n",
              "      <th>debt</th>\n",
              "      <th>debt</th>\n",
              "      <th>debt</th>\n",
              "    </tr>\n",
              "    <tr>\n",
              "      <th>purpose_category</th>\n",
              "      <th></th>\n",
              "      <th></th>\n",
              "      <th></th>\n",
              "    </tr>\n",
              "  </thead>\n",
              "  <tbody>\n",
              "    <tr>\n",
              "      <th>операции с автомобилем</th>\n",
              "      <td>4279</td>\n",
              "      <td>400</td>\n",
              "      <td>9.35%</td>\n",
              "    </tr>\n",
              "    <tr>\n",
              "      <th>получение образования</th>\n",
              "      <td>3988</td>\n",
              "      <td>369</td>\n",
              "      <td>9.25%</td>\n",
              "    </tr>\n",
              "    <tr>\n",
              "      <th>проведение свадьбы</th>\n",
              "      <td>2313</td>\n",
              "      <td>183</td>\n",
              "      <td>7.91%</td>\n",
              "    </tr>\n",
              "    <tr>\n",
              "      <th>операции с недвижимостью</th>\n",
              "      <td>10751</td>\n",
              "      <td>780</td>\n",
              "      <td>7.26%</td>\n",
              "    </tr>\n",
              "  </tbody>\n",
              "</table>\n",
              "</div>\n",
              "      <button class=\"colab-df-convert\" onclick=\"convertToInteractive('df-5244f983-78e4-422c-822b-58019720d71a')\"\n",
              "              title=\"Convert this dataframe to an interactive table.\"\n",
              "              style=\"display:none;\">\n",
              "\n",
              "  <svg xmlns=\"http://www.w3.org/2000/svg\" height=\"24px\"viewBox=\"0 0 24 24\"\n",
              "       width=\"24px\">\n",
              "    <path d=\"M0 0h24v24H0V0z\" fill=\"none\"/>\n",
              "    <path d=\"M18.56 5.44l.94 2.06.94-2.06 2.06-.94-2.06-.94-.94-2.06-.94 2.06-2.06.94zm-11 1L8.5 8.5l.94-2.06 2.06-.94-2.06-.94L8.5 2.5l-.94 2.06-2.06.94zm10 10l.94 2.06.94-2.06 2.06-.94-2.06-.94-.94-2.06-.94 2.06-2.06.94z\"/><path d=\"M17.41 7.96l-1.37-1.37c-.4-.4-.92-.59-1.43-.59-.52 0-1.04.2-1.43.59L10.3 9.45l-7.72 7.72c-.78.78-.78 2.05 0 2.83L4 21.41c.39.39.9.59 1.41.59.51 0 1.02-.2 1.41-.59l7.78-7.78 2.81-2.81c.8-.78.8-2.07 0-2.86zM5.41 20L4 18.59l7.72-7.72 1.47 1.35L5.41 20z\"/>\n",
              "  </svg>\n",
              "      </button>\n",
              "\n",
              "\n",
              "\n",
              "    <div id=\"df-a7b39a65-9624-4292-a635-8d5b1d136261\">\n",
              "      <button class=\"colab-df-quickchart\" onclick=\"quickchart('df-a7b39a65-9624-4292-a635-8d5b1d136261')\"\n",
              "              title=\"Suggest charts.\"\n",
              "              style=\"display:none;\">\n",
              "\n",
              "<svg xmlns=\"http://www.w3.org/2000/svg\" height=\"24px\"viewBox=\"0 0 24 24\"\n",
              "     width=\"24px\">\n",
              "    <g>\n",
              "        <path d=\"M19 3H5c-1.1 0-2 .9-2 2v14c0 1.1.9 2 2 2h14c1.1 0 2-.9 2-2V5c0-1.1-.9-2-2-2zM9 17H7v-7h2v7zm4 0h-2V7h2v10zm4 0h-2v-4h2v4z\"/>\n",
              "    </g>\n",
              "</svg>\n",
              "      </button>\n",
              "    </div>\n",
              "\n",
              "<style>\n",
              "  .colab-df-quickchart {\n",
              "    background-color: #E8F0FE;\n",
              "    border: none;\n",
              "    border-radius: 50%;\n",
              "    cursor: pointer;\n",
              "    display: none;\n",
              "    fill: #1967D2;\n",
              "    height: 32px;\n",
              "    padding: 0 0 0 0;\n",
              "    width: 32px;\n",
              "  }\n",
              "\n",
              "  .colab-df-quickchart:hover {\n",
              "    background-color: #E2EBFA;\n",
              "    box-shadow: 0px 1px 2px rgba(60, 64, 67, 0.3), 0px 1px 3px 1px rgba(60, 64, 67, 0.15);\n",
              "    fill: #174EA6;\n",
              "  }\n",
              "\n",
              "  [theme=dark] .colab-df-quickchart {\n",
              "    background-color: #3B4455;\n",
              "    fill: #D2E3FC;\n",
              "  }\n",
              "\n",
              "  [theme=dark] .colab-df-quickchart:hover {\n",
              "    background-color: #434B5C;\n",
              "    box-shadow: 0px 1px 3px 1px rgba(0, 0, 0, 0.15);\n",
              "    filter: drop-shadow(0px 1px 2px rgba(0, 0, 0, 0.3));\n",
              "    fill: #FFFFFF;\n",
              "  }\n",
              "</style>\n",
              "\n",
              "    <script>\n",
              "      async function quickchart(key) {\n",
              "        const containerElement = document.querySelector('#' + key);\n",
              "        const charts = await google.colab.kernel.invokeFunction(\n",
              "            'suggestCharts', [key], {});\n",
              "      }\n",
              "    </script>\n",
              "\n",
              "      <script>\n",
              "\n",
              "function displayQuickchartButton(domScope) {\n",
              "  let quickchartButtonEl =\n",
              "    domScope.querySelector('#df-a7b39a65-9624-4292-a635-8d5b1d136261 button.colab-df-quickchart');\n",
              "  quickchartButtonEl.style.display =\n",
              "    google.colab.kernel.accessAllowed ? 'block' : 'none';\n",
              "}\n",
              "\n",
              "        displayQuickchartButton(document);\n",
              "      </script>\n",
              "      <style>\n",
              "    .colab-df-container {\n",
              "      display:flex;\n",
              "      flex-wrap:wrap;\n",
              "      gap: 12px;\n",
              "    }\n",
              "\n",
              "    .colab-df-convert {\n",
              "      background-color: #E8F0FE;\n",
              "      border: none;\n",
              "      border-radius: 50%;\n",
              "      cursor: pointer;\n",
              "      display: none;\n",
              "      fill: #1967D2;\n",
              "      height: 32px;\n",
              "      padding: 0 0 0 0;\n",
              "      width: 32px;\n",
              "    }\n",
              "\n",
              "    .colab-df-convert:hover {\n",
              "      background-color: #E2EBFA;\n",
              "      box-shadow: 0px 1px 2px rgba(60, 64, 67, 0.3), 0px 1px 3px 1px rgba(60, 64, 67, 0.15);\n",
              "      fill: #174EA6;\n",
              "    }\n",
              "\n",
              "    [theme=dark] .colab-df-convert {\n",
              "      background-color: #3B4455;\n",
              "      fill: #D2E3FC;\n",
              "    }\n",
              "\n",
              "    [theme=dark] .colab-df-convert:hover {\n",
              "      background-color: #434B5C;\n",
              "      box-shadow: 0px 1px 3px 1px rgba(0, 0, 0, 0.15);\n",
              "      filter: drop-shadow(0px 1px 2px rgba(0, 0, 0, 0.3));\n",
              "      fill: #FFFFFF;\n",
              "    }\n",
              "  </style>\n",
              "\n",
              "      <script>\n",
              "        const buttonEl =\n",
              "          document.querySelector('#df-5244f983-78e4-422c-822b-58019720d71a button.colab-df-convert');\n",
              "        buttonEl.style.display =\n",
              "          google.colab.kernel.accessAllowed ? 'block' : 'none';\n",
              "\n",
              "        async function convertToInteractive(key) {\n",
              "          const element = document.querySelector('#df-5244f983-78e4-422c-822b-58019720d71a');\n",
              "          const dataTable =\n",
              "            await google.colab.kernel.invokeFunction('convertToInteractive',\n",
              "                                                     [key], {});\n",
              "          if (!dataTable) return;\n",
              "\n",
              "          const docLinkHtml = 'Like what you see? Visit the ' +\n",
              "            '<a target=\"_blank\" href=https://colab.research.google.com/notebooks/data_table.ipynb>data table notebook</a>'\n",
              "            + ' to learn more about interactive tables.';\n",
              "          element.innerHTML = '';\n",
              "          dataTable['output_type'] = 'display_data';\n",
              "          await google.colab.output.renderOutput(dataTable, element);\n",
              "          const docLink = document.createElement('div');\n",
              "          docLink.innerHTML = docLinkHtml;\n",
              "          element.appendChild(docLink);\n",
              "        }\n",
              "      </script>\n",
              "    </div>\n",
              "  </div>\n"
            ]
          },
          "metadata": {},
          "execution_count": 26
        }
      ],
      "source": [
        "# creating a pivot table\n",
        "pivoted = data.pivot_table(index = 'purpose_category', values = 'debt', aggfunc = ['count', 'sum', ratio])\n",
        "\n",
        "# the result in descending order of the percentage of overdue loans\n",
        "pivoted.sort_values(by=('ratio', 'debt'), ascending = False)"
      ]
    },
    {
      "cell_type": "markdown",
      "id": "c8683d19",
      "metadata": {
        "deletable": false,
        "id": "c8683d19"
      },
      "source": [
        "Clients whose purpose is \"operations with a car\" or \"education\" are the most likely to have delays in loan repayment. On the other hand, loans for \"real estate transactions\" and \"wedding expenses\" are more often repaid on time."
      ]
    },
    {
      "cell_type": "markdown",
      "id": "811444e7",
      "metadata": {
        "deletable": false,
        "editable": false,
        "id": "811444e7"
      },
      "source": [
        "#### Possible reasons for the appearance of missing values in the original data."
      ]
    },
    {
      "cell_type": "markdown",
      "id": "8da584ad",
      "metadata": {
        "deletable": false,
        "id": "8da584ad"
      },
      "source": [
        "For example, a user may not have provided certain information about themselves, or an automated data collection system may have experienced a failure. It is also possible that missing values were intentionally left blank, possibly expecting automated filling with special characters. Various reasons can lead to missing values in the data, and understanding the nature of these missing values is crucial for accurate data analysis and interpretation."
      ]
    },
    {
      "cell_type": "markdown",
      "id": "c3ccaf0d",
      "metadata": {
        "deletable": false,
        "editable": false,
        "id": "c3ccaf0d"
      },
      "source": [
        "### Summary"
      ]
    },
    {
      "cell_type": "markdown",
      "id": "c081e81d",
      "metadata": {
        "id": "c081e81d"
      },
      "source": [
        "**Research results:**\n",
        "\n",
        "1. The hypothesis regarding the correlation between the number of children and on-time loan repayment is generally confirmed: the more children a borrower has, the more likely they are to delay loan repayment. However, the difference between clients without children and clients with 1 or 2 children is not significant: 7.54% vs. 9.23% and 9.45%, respectively. Families with many children are underrepresented in the sample (380), compared to families with 1-2 children and childless families (20951 together). More data is needed to validate the hypothesis for families with many children.\n",
        "\n",
        "2. Marital status indeed affects loan repayment behavior, and the hypothesis was correct. Clients who have never been married are more likely to default on loans. However, the difference between the group of married clients and the groups in civil partnerships or not in any partnership is not significant, about 2%.\n",
        "\n",
        "3. Comparing the two most numerous income groups in the sample 'C' (income 50001–200000) and 'B' (income 200001–1000000), it can be concluded that clients with higher incomes are more likely to repay loans on time. Therefore, the hypothesis is valid for these groups. However, groups A (highest income), E (lowest income), and D (30001-50000) are too small to draw precise conclusions.\n",
        "\n",
        "4. The relationship between the purpose of the loan and the likelihood of on-time repayment is confirmed. Loans related to real estate (7.26%) and wedding expenses (7.91%) are most likely to be repaid on time. On the other hand, loans for cars (9.35%) and education (9.25%) have a lower on-time repayment rate. Although there is a clear influence of the loan purpose, the difference in results is small, within approximately 2%.\n",
        "\n",
        "**Recommendations:**\n",
        "\n",
        "- Since clear trends are observed in the results of hypotheses #2 and #4, they should be taken into account when developing a scoring system.\n",
        "- More data is needed for families with many children and for income groups A, E, and D to revalidate hypotheses #1 and #3."
      ]
    }
  ],
  "metadata": {
    "ExecuteTimeLog": [
      {
        "duration": 43,
        "start_time": "2023-01-08T03:40:18.769Z"
      },
      {
        "duration": 414,
        "start_time": "2023-01-08T03:40:40.370Z"
      },
      {
        "duration": 20,
        "start_time": "2023-01-08T03:40:40.786Z"
      },
      {
        "duration": 14,
        "start_time": "2023-01-08T03:40:40.807Z"
      },
      {
        "duration": 9,
        "start_time": "2023-01-08T03:40:40.822Z"
      },
      {
        "duration": 33,
        "start_time": "2023-01-08T03:40:40.832Z"
      },
      {
        "duration": 2,
        "start_time": "2023-01-08T03:40:40.867Z"
      },
      {
        "duration": 8,
        "start_time": "2023-01-08T03:40:40.871Z"
      },
      {
        "duration": 3,
        "start_time": "2023-01-08T03:40:40.881Z"
      },
      {
        "duration": 30,
        "start_time": "2023-01-08T03:40:40.885Z"
      },
      {
        "duration": 4,
        "start_time": "2023-01-08T03:40:40.918Z"
      },
      {
        "duration": 38,
        "start_time": "2023-01-08T03:40:40.923Z"
      },
      {
        "duration": 9,
        "start_time": "2023-01-08T03:40:40.963Z"
      },
      {
        "duration": 3,
        "start_time": "2023-01-08T03:40:40.974Z"
      },
      {
        "duration": 13,
        "start_time": "2023-01-08T03:40:40.978Z"
      },
      {
        "duration": 38,
        "start_time": "2023-01-08T03:40:40.993Z"
      },
      {
        "duration": 14,
        "start_time": "2023-01-08T03:40:41.033Z"
      },
      {
        "duration": 3,
        "start_time": "2023-01-08T03:40:41.049Z"
      },
      {
        "duration": 12,
        "start_time": "2023-01-08T03:40:41.053Z"
      },
      {
        "duration": 5,
        "start_time": "2023-01-08T03:40:41.066Z"
      },
      {
        "duration": 2,
        "start_time": "2023-01-08T03:40:41.073Z"
      },
      {
        "duration": 14,
        "start_time": "2023-01-08T03:40:41.076Z"
      },
      {
        "duration": 15,
        "start_time": "2023-01-08T03:40:41.115Z"
      },
      {
        "duration": 4,
        "start_time": "2023-01-08T03:40:41.131Z"
      },
      {
        "duration": 4,
        "start_time": "2023-01-08T03:40:41.137Z"
      },
      {
        "duration": 9,
        "start_time": "2023-01-08T03:40:41.142Z"
      },
      {
        "duration": 54,
        "start_time": "2023-01-09T19:06:55.397Z"
      },
      {
        "duration": 522,
        "start_time": "2023-01-09T19:07:10.600Z"
      },
      {
        "duration": 29,
        "start_time": "2023-01-09T19:07:11.124Z"
      },
      {
        "duration": 16,
        "start_time": "2023-01-09T19:07:11.155Z"
      },
      {
        "duration": 9,
        "start_time": "2023-01-09T19:07:11.172Z"
      },
      {
        "duration": 33,
        "start_time": "2023-01-09T19:07:11.183Z"
      },
      {
        "duration": 4,
        "start_time": "2023-01-09T19:07:11.218Z"
      },
      {
        "duration": 17,
        "start_time": "2023-01-09T19:07:11.224Z"
      },
      {
        "duration": 5,
        "start_time": "2023-01-09T19:07:11.243Z"
      },
      {
        "duration": 28,
        "start_time": "2023-01-09T19:07:11.250Z"
      },
      {
        "duration": 6,
        "start_time": "2023-01-09T19:07:11.280Z"
      },
      {
        "duration": 36,
        "start_time": "2023-01-09T19:07:11.287Z"
      },
      {
        "duration": 9,
        "start_time": "2023-01-09T19:07:11.325Z"
      },
      {
        "duration": 9,
        "start_time": "2023-01-09T19:07:11.336Z"
      },
      {
        "duration": 16,
        "start_time": "2023-01-09T19:07:11.348Z"
      },
      {
        "duration": 31,
        "start_time": "2023-01-09T19:07:11.366Z"
      },
      {
        "duration": 17,
        "start_time": "2023-01-09T19:07:11.399Z"
      },
      {
        "duration": 3,
        "start_time": "2023-01-09T19:07:11.418Z"
      },
      {
        "duration": 16,
        "start_time": "2023-01-09T19:07:11.423Z"
      },
      {
        "duration": 10,
        "start_time": "2023-01-09T19:07:11.441Z"
      },
      {
        "duration": 25,
        "start_time": "2023-01-09T19:07:11.453Z"
      },
      {
        "duration": 16,
        "start_time": "2023-01-09T19:07:11.480Z"
      },
      {
        "duration": 38,
        "start_time": "2023-01-09T19:07:11.498Z"
      },
      {
        "duration": 0,
        "start_time": "2023-01-09T19:07:11.537Z"
      },
      {
        "duration": 0,
        "start_time": "2023-01-09T19:07:11.538Z"
      },
      {
        "duration": 0,
        "start_time": "2023-01-09T19:07:11.539Z"
      },
      {
        "duration": 13,
        "start_time": "2023-01-09T19:07:33.741Z"
      },
      {
        "duration": 15,
        "start_time": "2023-01-09T19:30:00.807Z"
      },
      {
        "duration": 1185,
        "start_time": "2023-01-09T19:56:44.377Z"
      },
      {
        "duration": 1150,
        "start_time": "2023-01-09T19:59:09.946Z"
      },
      {
        "duration": 15,
        "start_time": "2023-01-09T19:59:37.407Z"
      },
      {
        "duration": 18,
        "start_time": "2023-01-09T19:59:51.053Z"
      },
      {
        "duration": 17,
        "start_time": "2023-01-09T20:09:55.505Z"
      },
      {
        "duration": 17,
        "start_time": "2023-01-09T20:20:16.544Z"
      },
      {
        "duration": 15,
        "start_time": "2023-01-09T21:28:47.690Z"
      },
      {
        "duration": 13,
        "start_time": "2023-01-09T21:30:00.805Z"
      },
      {
        "duration": 1049,
        "start_time": "2023-01-09T21:31:22.715Z"
      },
      {
        "duration": 16,
        "start_time": "2023-01-09T21:31:55.885Z"
      },
      {
        "duration": 17,
        "start_time": "2023-01-09T21:33:08.285Z"
      },
      {
        "duration": 18,
        "start_time": "2023-01-09T21:50:58.500Z"
      },
      {
        "duration": 41,
        "start_time": "2023-01-10T03:09:43.672Z"
      },
      {
        "duration": 20,
        "start_time": "2023-01-10T03:12:32.903Z"
      },
      {
        "duration": 27,
        "start_time": "2023-01-10T03:13:51.028Z"
      },
      {
        "duration": 26,
        "start_time": "2023-01-10T03:14:11.571Z"
      },
      {
        "duration": 30,
        "start_time": "2023-01-10T03:14:20.583Z"
      },
      {
        "duration": 29,
        "start_time": "2023-01-10T03:14:34.957Z"
      },
      {
        "duration": 27,
        "start_time": "2023-01-10T03:16:18.188Z"
      },
      {
        "duration": 13,
        "start_time": "2023-01-10T03:17:59.915Z"
      },
      {
        "duration": 23,
        "start_time": "2023-01-10T03:18:42.179Z"
      },
      {
        "duration": 27,
        "start_time": "2023-01-10T03:19:04.234Z"
      },
      {
        "duration": 31,
        "start_time": "2023-01-10T03:24:57.019Z"
      },
      {
        "duration": 25,
        "start_time": "2023-01-10T03:28:28.763Z"
      },
      {
        "duration": 29,
        "start_time": "2023-01-10T03:29:06.969Z"
      },
      {
        "duration": 28,
        "start_time": "2023-01-10T03:31:35.053Z"
      },
      {
        "duration": 95,
        "start_time": "2023-01-10T03:33:33.624Z"
      },
      {
        "duration": 29,
        "start_time": "2023-01-10T03:34:13.079Z"
      },
      {
        "duration": 34,
        "start_time": "2023-01-10T03:35:20.646Z"
      },
      {
        "duration": 30,
        "start_time": "2023-01-10T04:21:07.272Z"
      },
      {
        "duration": 1146,
        "start_time": "2023-01-10T04:23:02.057Z"
      },
      {
        "duration": 7,
        "start_time": "2023-01-10T04:23:37.503Z"
      },
      {
        "duration": 5,
        "start_time": "2023-01-10T04:23:51.388Z"
      },
      {
        "duration": 5,
        "start_time": "2023-01-10T04:27:32.194Z"
      },
      {
        "duration": 6,
        "start_time": "2023-01-10T04:27:49.900Z"
      },
      {
        "duration": 6,
        "start_time": "2023-01-10T04:32:11.395Z"
      },
      {
        "duration": 3,
        "start_time": "2023-01-10T04:32:26.533Z"
      },
      {
        "duration": 3,
        "start_time": "2023-01-10T04:32:46.045Z"
      },
      {
        "duration": 7,
        "start_time": "2023-01-10T04:32:58.002Z"
      },
      {
        "duration": 6,
        "start_time": "2023-01-10T04:34:32.418Z"
      },
      {
        "duration": 492,
        "start_time": "2023-01-10T15:58:36.815Z"
      },
      {
        "duration": 30,
        "start_time": "2023-01-10T15:58:37.309Z"
      },
      {
        "duration": 31,
        "start_time": "2023-01-10T15:58:37.341Z"
      },
      {
        "duration": 15,
        "start_time": "2023-01-10T15:58:37.375Z"
      },
      {
        "duration": 82,
        "start_time": "2023-01-10T15:58:37.392Z"
      },
      {
        "duration": 4,
        "start_time": "2023-01-10T15:58:37.476Z"
      },
      {
        "duration": 17,
        "start_time": "2023-01-10T15:58:37.482Z"
      },
      {
        "duration": 6,
        "start_time": "2023-01-10T15:58:37.501Z"
      },
      {
        "duration": 14,
        "start_time": "2023-01-10T15:58:37.509Z"
      },
      {
        "duration": 6,
        "start_time": "2023-01-10T15:58:37.552Z"
      },
      {
        "duration": 60,
        "start_time": "2023-01-10T15:58:37.560Z"
      },
      {
        "duration": 32,
        "start_time": "2023-01-10T15:58:37.623Z"
      },
      {
        "duration": 6,
        "start_time": "2023-01-10T15:58:37.657Z"
      },
      {
        "duration": 15,
        "start_time": "2023-01-10T15:58:37.665Z"
      },
      {
        "duration": 24,
        "start_time": "2023-01-10T15:58:37.682Z"
      },
      {
        "duration": 43,
        "start_time": "2023-01-10T15:58:37.708Z"
      },
      {
        "duration": 4,
        "start_time": "2023-01-10T15:58:37.753Z"
      },
      {
        "duration": 21,
        "start_time": "2023-01-10T15:58:37.759Z"
      },
      {
        "duration": 9,
        "start_time": "2023-01-10T15:58:37.782Z"
      },
      {
        "duration": 5,
        "start_time": "2023-01-10T15:58:37.794Z"
      },
      {
        "duration": 18,
        "start_time": "2023-01-10T15:58:37.801Z"
      },
      {
        "duration": 68,
        "start_time": "2023-01-10T15:58:37.821Z"
      },
      {
        "duration": 47,
        "start_time": "2023-01-10T15:58:37.891Z"
      },
      {
        "duration": 9,
        "start_time": "2023-01-10T15:58:37.952Z"
      },
      {
        "duration": 40,
        "start_time": "2023-01-10T15:58:37.963Z"
      },
      {
        "duration": 56,
        "start_time": "2023-01-10T15:58:38.005Z"
      },
      {
        "duration": 49,
        "start_time": "2023-01-10T19:15:25.019Z"
      },
      {
        "duration": 1026,
        "start_time": "2023-01-10T19:15:39.313Z"
      },
      {
        "duration": 39,
        "start_time": "2023-01-10T19:15:46.943Z"
      },
      {
        "duration": 6,
        "start_time": "2023-01-10T19:21:20.503Z"
      },
      {
        "duration": 9,
        "start_time": "2023-01-10T19:21:58.413Z"
      },
      {
        "duration": 5,
        "start_time": "2023-01-10T19:22:16.159Z"
      },
      {
        "duration": 29,
        "start_time": "2023-01-10T19:22:39.019Z"
      },
      {
        "duration": 8,
        "start_time": "2023-01-10T19:22:45.499Z"
      },
      {
        "duration": 7,
        "start_time": "2023-01-10T19:23:44.890Z"
      },
      {
        "duration": 84,
        "start_time": "2023-01-10T19:27:14.259Z"
      },
      {
        "duration": 7,
        "start_time": "2023-01-10T19:28:42.627Z"
      },
      {
        "duration": 7,
        "start_time": "2023-01-10T19:39:04.338Z"
      },
      {
        "duration": 7,
        "start_time": "2023-01-10T19:40:00.330Z"
      },
      {
        "duration": 6,
        "start_time": "2023-01-10T19:41:29.233Z"
      },
      {
        "duration": 41,
        "start_time": "2023-01-10T19:45:29.869Z"
      }
    ],
    "colab": {
      "provenance": []
    },
    "kernelspec": {
      "display_name": "Python 3 (ipykernel)",
      "language": "python",
      "name": "python3"
    },
    "language_info": {
      "codemirror_mode": {
        "name": "ipython",
        "version": 3
      },
      "file_extension": ".py",
      "mimetype": "text/x-python",
      "name": "python",
      "nbconvert_exporter": "python",
      "pygments_lexer": "ipython3",
      "version": "3.9.5"
    },
    "toc": {
      "base_numbering": 1,
      "nav_menu": {},
      "number_sections": true,
      "sideBar": true,
      "skip_h1_title": true,
      "title_cell": "Table of Contents",
      "title_sidebar": "Contents",
      "toc_cell": false,
      "toc_position": {},
      "toc_section_display": true,
      "toc_window_display": true
    }
  },
  "nbformat": 4,
  "nbformat_minor": 5
}