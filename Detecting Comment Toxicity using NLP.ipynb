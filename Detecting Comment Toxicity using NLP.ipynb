{
  "cells": [
    {
      "cell_type": "markdown",
      "metadata": {
        "id": "cKrtlz-gBGKF"
      },
      "source": [
        "# Detecting Comment Toxicity using BERT"
      ]
    },
    {
      "cell_type": "markdown",
      "metadata": {
        "id": "dORHHm3FBGKF"
      },
      "source": [
        "In this project, we will solve the task of text classification using supervised machine learning methods.\n",
        "\n",
        "**Project description:**\n",
        "\n",
        "The online store \"Wikishop\" is launching a new service. Now users can edit and supplement product descriptions, similar to wiki communities. This means that customers can suggest their edits and comment on changes made by others. The store needs a tool that can detect toxic comments and send them for moderation.\n",
        "\n",
        "Our goal is to train a model to classify comments as positive or negative. We have a dataset with labels indicating the toxicity of the comments.\n",
        "\n",
        "We need to build a model with an F1 score of at least 0.75 as the quality metric."
      ]
    },
    {
      "cell_type": "markdown",
      "metadata": {
        "id": "JMGJJoZhBGKG"
      },
      "source": [
        "## Data preprocessing"
      ]
    },
    {
      "cell_type": "code",
      "execution_count": null,
      "metadata": {
        "id": "AuRZt6eHPPQP"
      },
      "outputs": [],
      "source": [
        "pip install spacy --quiet"
      ]
    },
    {
      "cell_type": "code",
      "execution_count": null,
      "metadata": {
        "id": "O_H9g1djFOMI"
      },
      "outputs": [],
      "source": [
        "pip install catboost --quiet"
      ]
    },
    {
      "cell_type": "code",
      "execution_count": null,
      "metadata": {
        "id": "oI6m5E5hPgMB"
      },
      "outputs": [],
      "source": [
        "pip install transformers --quiet"
      ]
    },
    {
      "cell_type": "code",
      "execution_count": null,
      "metadata": {
        "id": "PhSgtaRppqWB"
      },
      "outputs": [],
      "source": [
        "pip install fast_ml --quiet"
      ]
    },
    {
      "cell_type": "code",
      "execution_count": null,
      "metadata": {
        "id": "rR4zdCIoBGKG"
      },
      "outputs": [],
      "source": [
        "import pandas as pd\n",
        "import numpy as np\n",
        "import re\n",
        "import string\n",
        "import spacy\n",
        "import nltk\n",
        "import torch\n",
        "import keras\n",
        "\n",
        "from fast_ml.model_development import train_valid_test_split\n",
        "from sklearn.metrics import f1_score\n",
        "from catboost import CatBoostClassifier\n",
        "from nltk.corpus import stopwords\n",
        "from nltk.tokenize import word_tokenize\n",
        "from sklearn.model_selection import train_test_split, RandomizedSearchCV\n",
        "from sklearn.feature_extraction.text import TfidfVectorizer\n",
        "from sklearn.linear_model import LogisticRegression\n",
        "from transformers import AutoTokenizer, AutoModelForSequenceClassification, TextClassificationPipeline\n",
        "from tqdm import tqdm"
      ]
    },
    {
      "cell_type": "code",
      "execution_count": null,
      "metadata": {
        "colab": {
          "base_uri": "https://localhost:8080/"
        },
        "id": "z1ELNbO9n_E0",
        "outputId": "4e1fc8d7-3c9f-4644-c757-9d118ea2f604"
      },
      "outputs": [
        {
          "name": "stderr",
          "output_type": "stream",
          "text": [
            "[nltk_data] Downloading package stopwords to /root/nltk_data...\n",
            "[nltk_data]   Package stopwords is already up-to-date!\n",
            "[nltk_data] Downloading package punkt to /root/nltk_data...\n",
            "[nltk_data]   Package punkt is already up-to-date!\n",
            "[nltk_data] Downloading package wordnet to /root/nltk_data...\n",
            "[nltk_data]   Package wordnet is already up-to-date!\n"
          ]
        },
        {
          "data": {
            "text/plain": [
              "True"
            ]
          },
          "execution_count": 8,
          "metadata": {},
          "output_type": "execute_result"
        }
      ],
      "source": [
        "nltk.download('stopwords')\n",
        "nltk.download('punkt')\n",
        "nltk.download('wordnet')"
      ]
    },
    {
      "cell_type": "code",
      "execution_count": null,
      "metadata": {
        "id": "2xXo73s6Bvi0"
      },
      "outputs": [],
      "source": [
        "try:\n",
        "    df = pd.read_csv(\"https://code.s3.yandex.net/datasets/toxic_comments.csv\")\n",
        "except:\n",
        "    df =  pd.read_csv(\"/datasets/toxic_comments.csv\")"
      ]
    },
    {
      "cell_type": "code",
      "execution_count": null,
      "metadata": {
        "colab": {
          "base_uri": "https://localhost:8080/"
        },
        "id": "HW98FolnCCWa",
        "outputId": "c94a52cc-9cac-42c1-bff6-757e49e4625b"
      },
      "outputs": [
        {
          "name": "stdout",
          "output_type": "stream",
          "text": [
            "<class 'pandas.core.frame.DataFrame'>\n",
            "RangeIndex: 159292 entries, 0 to 159291\n",
            "Data columns (total 3 columns):\n",
            " #   Column      Non-Null Count   Dtype \n",
            "---  ------      --------------   ----- \n",
            " 0   Unnamed: 0  159292 non-null  int64 \n",
            " 1   text        159292 non-null  object\n",
            " 2   toxic       159292 non-null  int64 \n",
            "dtypes: int64(2), object(1)\n",
            "memory usage: 3.6+ MB\n"
          ]
        }
      ],
      "source": [
        "df.info()"
      ]
    },
    {
      "cell_type": "code",
      "execution_count": null,
      "metadata": {
        "colab": {
          "base_uri": "https://localhost:8080/",
          "height": 677
        },
        "collapsed": true,
        "id": "NONrZHMVCHxI",
        "outputId": "2e1ad0ab-233c-448c-8f46-d913ec5e6e77"
      },
      "outputs": [
        {
          "data": {
            "text/html": [
              "\n",
              "  <div id=\"df-074fb75c-9e8b-4f24-961e-12d10b25ee5a\">\n",
              "    <div class=\"colab-df-container\">\n",
              "      <div>\n",
              "<style scoped>\n",
              "    .dataframe tbody tr th:only-of-type {\n",
              "        vertical-align: middle;\n",
              "    }\n",
              "\n",
              "    .dataframe tbody tr th {\n",
              "        vertical-align: top;\n",
              "    }\n",
              "\n",
              "    .dataframe thead th {\n",
              "        text-align: right;\n",
              "    }\n",
              "</style>\n",
              "<table border=\"1\" class=\"dataframe\">\n",
              "  <thead>\n",
              "    <tr style=\"text-align: right;\">\n",
              "      <th></th>\n",
              "      <th>Unnamed: 0</th>\n",
              "      <th>text</th>\n",
              "      <th>toxic</th>\n",
              "    </tr>\n",
              "  </thead>\n",
              "  <tbody>\n",
              "    <tr>\n",
              "      <th>96324</th>\n",
              "      <td>96417</td>\n",
              "      <td>BIG UPDATE!!  This site has so many facts wron...</td>\n",
              "      <td>0</td>\n",
              "    </tr>\n",
              "    <tr>\n",
              "      <th>113080</th>\n",
              "      <td>113178</td>\n",
              "      <td>\"\\n\\nI shall ignore your stupid personal insul...</td>\n",
              "      <td>0</td>\n",
              "    </tr>\n",
              "    <tr>\n",
              "      <th>53072</th>\n",
              "      <td>53133</td>\n",
              "      <td>Not done, comedy request.</td>\n",
              "      <td>0</td>\n",
              "    </tr>\n",
              "    <tr>\n",
              "      <th>133024</th>\n",
              "      <td>133162</td>\n",
              "      <td>I'm so set on getting the article deleted beca...</td>\n",
              "      <td>0</td>\n",
              "    </tr>\n",
              "    <tr>\n",
              "      <th>48936</th>\n",
              "      <td>48991</td>\n",
              "      <td>Blackworm, I know why. (: hehehehehehe it has ...</td>\n",
              "      <td>0</td>\n",
              "    </tr>\n",
              "    <tr>\n",
              "      <th>137144</th>\n",
              "      <td>137282</td>\n",
              "      <td>if the algae lipid factor is 40%, one need 2.5...</td>\n",
              "      <td>0</td>\n",
              "    </tr>\n",
              "    <tr>\n",
              "      <th>52577</th>\n",
              "      <td>52634</td>\n",
              "      <td>\"\\n\\nIndeed they have. And you are right about...</td>\n",
              "      <td>0</td>\n",
              "    </tr>\n",
              "    <tr>\n",
              "      <th>134487</th>\n",
              "      <td>134625</td>\n",
              "      <td>Major reorganization and rewriting \\n\\nI think...</td>\n",
              "      <td>0</td>\n",
              "    </tr>\n",
              "    <tr>\n",
              "      <th>115809</th>\n",
              "      <td>115908</td>\n",
              "      <td>not to mention they are mixing objective and o...</td>\n",
              "      <td>0</td>\n",
              "    </tr>\n",
              "    <tr>\n",
              "      <th>32873</th>\n",
              "      <td>32913</td>\n",
              "      <td>dimension 1 || dimension 2 || dimension</td>\n",
              "      <td>0</td>\n",
              "    </tr>\n",
              "    <tr>\n",
              "      <th>75712</th>\n",
              "      <td>75788</td>\n",
              "      <td>, 26 October 2014 (UTC)\\n Exactly. I knew you ...</td>\n",
              "      <td>0</td>\n",
              "    </tr>\n",
              "    <tr>\n",
              "      <th>134238</th>\n",
              "      <td>134376</td>\n",
              "      <td>I'm referring to the slightly hysterical remar...</td>\n",
              "      <td>0</td>\n",
              "    </tr>\n",
              "    <tr>\n",
              "      <th>46534</th>\n",
              "      <td>46589</td>\n",
              "      <td>Thanks and a Suggestion \\n\\nThank you for your...</td>\n",
              "      <td>0</td>\n",
              "    </tr>\n",
              "    <tr>\n",
              "      <th>156151</th>\n",
              "      <td>156310</td>\n",
              "      <td>Opinions of the Tea Party outside of the Unite...</td>\n",
              "      <td>0</td>\n",
              "    </tr>\n",
              "    <tr>\n",
              "      <th>43253</th>\n",
              "      <td>43303</td>\n",
              "      <td>\"\\n TAB\\nHave you got the \"\"treat the above as...</td>\n",
              "      <td>0</td>\n",
              "    </tr>\n",
              "    <tr>\n",
              "      <th>100487</th>\n",
              "      <td>100584</td>\n",
              "      <td>blocked \\n\\nYour list of edits makes it obviou...</td>\n",
              "      <td>0</td>\n",
              "    </tr>\n",
              "    <tr>\n",
              "      <th>92715</th>\n",
              "      <td>92807</td>\n",
              "      <td>Just a note \\n\\n - Guess it wasn't compromised...</td>\n",
              "      <td>0</td>\n",
              "    </tr>\n",
              "    <tr>\n",
              "      <th>39495</th>\n",
              "      <td>39545</td>\n",
              "      <td>T1 deletes \\n\\nHi. WP:GUS is new to me but at ...</td>\n",
              "      <td>0</td>\n",
              "    </tr>\n",
              "    <tr>\n",
              "      <th>104796</th>\n",
              "      <td>104893</td>\n",
              "      <td>September 2010\\n  Please stop adding unreferen...</td>\n",
              "      <td>0</td>\n",
              "    </tr>\n",
              "    <tr>\n",
              "      <th>87548</th>\n",
              "      <td>87629</td>\n",
              "      <td>\"\\n\\n The Code  \\n\\nI completely agree with th...</td>\n",
              "      <td>0</td>\n",
              "    </tr>\n",
              "  </tbody>\n",
              "</table>\n",
              "</div>\n",
              "      <button class=\"colab-df-convert\" onclick=\"convertToInteractive('df-074fb75c-9e8b-4f24-961e-12d10b25ee5a')\"\n",
              "              title=\"Convert this dataframe to an interactive table.\"\n",
              "              style=\"display:none;\">\n",
              "        \n",
              "  <svg xmlns=\"http://www.w3.org/2000/svg\" height=\"24px\"viewBox=\"0 0 24 24\"\n",
              "       width=\"24px\">\n",
              "    <path d=\"M0 0h24v24H0V0z\" fill=\"none\"/>\n",
              "    <path d=\"M18.56 5.44l.94 2.06.94-2.06 2.06-.94-2.06-.94-.94-2.06-.94 2.06-2.06.94zm-11 1L8.5 8.5l.94-2.06 2.06-.94-2.06-.94L8.5 2.5l-.94 2.06-2.06.94zm10 10l.94 2.06.94-2.06 2.06-.94-2.06-.94-.94-2.06-.94 2.06-2.06.94z\"/><path d=\"M17.41 7.96l-1.37-1.37c-.4-.4-.92-.59-1.43-.59-.52 0-1.04.2-1.43.59L10.3 9.45l-7.72 7.72c-.78.78-.78 2.05 0 2.83L4 21.41c.39.39.9.59 1.41.59.51 0 1.02-.2 1.41-.59l7.78-7.78 2.81-2.81c.8-.78.8-2.07 0-2.86zM5.41 20L4 18.59l7.72-7.72 1.47 1.35L5.41 20z\"/>\n",
              "  </svg>\n",
              "      </button>\n",
              "      \n",
              "  <style>\n",
              "    .colab-df-container {\n",
              "      display:flex;\n",
              "      flex-wrap:wrap;\n",
              "      gap: 12px;\n",
              "    }\n",
              "\n",
              "    .colab-df-convert {\n",
              "      background-color: #E8F0FE;\n",
              "      border: none;\n",
              "      border-radius: 50%;\n",
              "      cursor: pointer;\n",
              "      display: none;\n",
              "      fill: #1967D2;\n",
              "      height: 32px;\n",
              "      padding: 0 0 0 0;\n",
              "      width: 32px;\n",
              "    }\n",
              "\n",
              "    .colab-df-convert:hover {\n",
              "      background-color: #E2EBFA;\n",
              "      box-shadow: 0px 1px 2px rgba(60, 64, 67, 0.3), 0px 1px 3px 1px rgba(60, 64, 67, 0.15);\n",
              "      fill: #174EA6;\n",
              "    }\n",
              "\n",
              "    [theme=dark] .colab-df-convert {\n",
              "      background-color: #3B4455;\n",
              "      fill: #D2E3FC;\n",
              "    }\n",
              "\n",
              "    [theme=dark] .colab-df-convert:hover {\n",
              "      background-color: #434B5C;\n",
              "      box-shadow: 0px 1px 3px 1px rgba(0, 0, 0, 0.15);\n",
              "      filter: drop-shadow(0px 1px 2px rgba(0, 0, 0, 0.3));\n",
              "      fill: #FFFFFF;\n",
              "    }\n",
              "  </style>\n",
              "\n",
              "      <script>\n",
              "        const buttonEl =\n",
              "          document.querySelector('#df-074fb75c-9e8b-4f24-961e-12d10b25ee5a button.colab-df-convert');\n",
              "        buttonEl.style.display =\n",
              "          google.colab.kernel.accessAllowed ? 'block' : 'none';\n",
              "\n",
              "        async function convertToInteractive(key) {\n",
              "          const element = document.querySelector('#df-074fb75c-9e8b-4f24-961e-12d10b25ee5a');\n",
              "          const dataTable =\n",
              "            await google.colab.kernel.invokeFunction('convertToInteractive',\n",
              "                                                     [key], {});\n",
              "          if (!dataTable) return;\n",
              "\n",
              "          const docLinkHtml = 'Like what you see? Visit the ' +\n",
              "            '<a target=\"_blank\" href=https://colab.research.google.com/notebooks/data_table.ipynb>data table notebook</a>'\n",
              "            + ' to learn more about interactive tables.';\n",
              "          element.innerHTML = '';\n",
              "          dataTable['output_type'] = 'display_data';\n",
              "          await google.colab.output.renderOutput(dataTable, element);\n",
              "          const docLink = document.createElement('div');\n",
              "          docLink.innerHTML = docLinkHtml;\n",
              "          element.appendChild(docLink);\n",
              "        }\n",
              "      </script>\n",
              "    </div>\n",
              "  </div>\n",
              "  "
            ],
            "text/plain": [
              "        Unnamed: 0                                               text  toxic\n",
              "96324        96417  BIG UPDATE!!  This site has so many facts wron...      0\n",
              "113080      113178  \"\\n\\nI shall ignore your stupid personal insul...      0\n",
              "53072        53133                          Not done, comedy request.      0\n",
              "133024      133162  I'm so set on getting the article deleted beca...      0\n",
              "48936        48991  Blackworm, I know why. (: hehehehehehe it has ...      0\n",
              "137144      137282  if the algae lipid factor is 40%, one need 2.5...      0\n",
              "52577        52634  \"\\n\\nIndeed they have. And you are right about...      0\n",
              "134487      134625  Major reorganization and rewriting \\n\\nI think...      0\n",
              "115809      115908  not to mention they are mixing objective and o...      0\n",
              "32873        32913            dimension 1 || dimension 2 || dimension      0\n",
              "75712        75788  , 26 October 2014 (UTC)\\n Exactly. I knew you ...      0\n",
              "134238      134376  I'm referring to the slightly hysterical remar...      0\n",
              "46534        46589  Thanks and a Suggestion \\n\\nThank you for your...      0\n",
              "156151      156310  Opinions of the Tea Party outside of the Unite...      0\n",
              "43253        43303  \"\\n TAB\\nHave you got the \"\"treat the above as...      0\n",
              "100487      100584  blocked \\n\\nYour list of edits makes it obviou...      0\n",
              "92715        92807  Just a note \\n\\n - Guess it wasn't compromised...      0\n",
              "39495        39545  T1 deletes \\n\\nHi. WP:GUS is new to me but at ...      0\n",
              "104796      104893  September 2010\\n  Please stop adding unreferen...      0\n",
              "87548        87629  \"\\n\\n The Code  \\n\\nI completely agree with th...      0"
            ]
          },
          "execution_count": 12,
          "metadata": {},
          "output_type": "execute_result"
        }
      ],
      "source": [
        "df.sample(20)"
      ]
    },
    {
      "cell_type": "markdown",
      "metadata": {
        "id": "rLqlKdy-DhYp"
      },
      "source": [
        "We can see that we have to work with unlemmatized and uncleaned text in English."
      ]
    },
    {
      "cell_type": "code",
      "execution_count": null,
      "metadata": {
        "colab": {
          "base_uri": "https://localhost:8080/"
        },
        "id": "ysoUZLmYCPJY",
        "outputId": "2a3eb598-4e1d-47e3-8622-21cb97be9f32"
      },
      "outputs": [
        {
          "data": {
            "text/plain": [
              "Unnamed: 0    0\n",
              "text          0\n",
              "toxic         0\n",
              "dtype: int64"
            ]
          },
          "execution_count": 13,
          "metadata": {},
          "output_type": "execute_result"
        }
      ],
      "source": [
        "# making sure that there are no missing values\n",
        "df.isna().sum()"
      ]
    },
    {
      "cell_type": "code",
      "execution_count": null,
      "metadata": {
        "colab": {
          "base_uri": "https://localhost:8080/"
        },
        "id": "dl7NsX1zCU9K",
        "outputId": "740c15f8-3933-4d5b-d0a3-db4adcb2a8e1"
      },
      "outputs": [
        {
          "data": {
            "text/plain": [
              "0"
            ]
          },
          "execution_count": 14,
          "metadata": {},
          "output_type": "execute_result"
        }
      ],
      "source": [
        "# making sure that there are no duplicates\n",
        "df.duplicated().sum()"
      ]
    },
    {
      "cell_type": "code",
      "execution_count": null,
      "metadata": {
        "colab": {
          "base_uri": "https://localhost:8080/"
        },
        "id": "cog7NWTzL4sJ",
        "outputId": "723b7e33-989a-4cb2-d61c-14805ffe878d"
      },
      "outputs": [
        {
          "data": {
            "text/plain": [
              "0"
            ]
          },
          "execution_count": 15,
          "metadata": {},
          "output_type": "execute_result"
        }
      ],
      "source": [
        "df['text'].duplicated().sum()"
      ]
    },
    {
      "cell_type": "code",
      "execution_count": null,
      "metadata": {
        "colab": {
          "base_uri": "https://localhost:8080/"
        },
        "id": "HlHturz5GC_E",
        "outputId": "a789bd00-1936-4618-aa9b-9d2015a522ce",
        "scrolled": true
      },
      "outputs": [
        {
          "data": {
            "text/plain": [
              "0    143106\n",
              "1     16186\n",
              "Name: toxic, dtype: int64"
            ]
          },
          "execution_count": 16,
          "metadata": {},
          "output_type": "execute_result"
        }
      ],
      "source": [
        "# let's take a look at the classes ratio\n",
        "df[\"toxic\"].value_counts()"
      ]
    },
    {
      "cell_type": "markdown",
      "metadata": {
        "id": "njuCIioABaMw"
      },
      "source": [
        "We observe a significant class imbalance, where positive comments are predominant."
      ]
    },
    {
      "cell_type": "code",
      "execution_count": null,
      "metadata": {
        "id": "S1vy3YHOQvWE"
      },
      "outputs": [],
      "source": [
        "# initializing the lemmatizer\n",
        "nlp = spacy.load('en_core_web_sm', disable=['parser', 'ner'])"
      ]
    },
    {
      "cell_type": "code",
      "execution_count": null,
      "metadata": {
        "id": "3_26ySiVM8Yk"
      },
      "outputs": [],
      "source": [
        "import re\n",
        "import spacy\n",
        "from nltk.corpus import stopwords\n",
        "from nltk.tokenize import word_tokenize\n",
        "\n",
        "nlp = spacy.load(\"en_core_web_sm\")\n",
        "\n",
        "def clean_text(text):\n",
        "    # converting all words to lowercase\n",
        "    text = text.lower()\n",
        "\n",
        "    # replacing contractions with full forms\n",
        "    text = re.sub(r\"i'm\", \"i am\", text)\n",
        "    text = re.sub(r\"he's\", \"he is\", text)\n",
        "    text = re.sub(r\"she's\", \"she is\", text)\n",
        "    text = re.sub(r\"it's\", \"it is\", text)\n",
        "    text = re.sub(r\"that's\", \"that is\", text)\n",
        "    text = re.sub(r\"what's\", \"what is\", text)\n",
        "    text = re.sub(r\"where's\", \"where is\", text)\n",
        "    text = re.sub(r\"how's\", \"how is\", text)\n",
        "    text = re.sub(r\"'ll\", \" will\", text)\n",
        "    text = re.sub(r\"'ve\", \" have\", text)\n",
        "    text = re.sub(r\"'re\", \" are\", text)\n",
        "    text = re.sub(r\"'d\", \" would\", text)\n",
        "    text = re.sub(r\"'re\", \" are\", text)\n",
        "    text = re.sub(r\"won't\", \"will not\", text)\n",
        "    text = re.sub(r\"can't\", \"cannot\", text)\n",
        "    text = re.sub(r\"n't\", \" not\", text)\n",
        "    text = re.sub(r\"n'\", \"ng\", text)\n",
        "    text = re.sub(r\"'bout\", \"about\", text)\n",
        "    text = re.sub(r\"'til\", \"until\", text)\n",
        "\n",
        "    # removing special characters and punctuation\n",
        "    text = re.sub(r'[^\\w\\s]', '', text)\n",
        "\n",
        "    # tokenizing the text\n",
        "    tokens = word_tokenize(text)\n",
        "\n",
        "    # removing stop words\n",
        "    stop_words = stopwords.words('english')\n",
        "    filtered_tokens = [word for word in tokens if word not in stop_words]\n",
        "\n",
        "    # lemmatizing\n",
        "    lemmatized_tokens = [token.lemma_ for token in nlp(\" \".join(filtered_tokens))]\n",
        "\n",
        "    cleaned_text = ' '.join(lemmatized_tokens)\n",
        "\n",
        "    return cleaned_text\n"
      ]
    },
    {
      "cell_type": "code",
      "execution_count": null,
      "metadata": {
        "colab": {
          "base_uri": "https://localhost:8080/"
        },
        "collapsed": true,
        "id": "loeSchhPkY3b",
        "outputId": "e30abeae-2536-49f8-d740-2d343760ce33"
      },
      "outputs": [
        {
          "name": "stdout",
          "output_type": "stream",
          "text": [
            "CPU times: user 17min 9s, sys: 9.41 s, total: 17min 18s\n",
            "Wall time: 17min 42s\n"
          ]
        },
        {
          "data": {
            "text/plain": [
              "0     explanation edit make username hardcore metall...\n",
              "1     daww match background colour seemingly stuck t...\n",
              "2     hey man really try edit war guy constantly rem...\n",
              "3     make real suggestion improvement wonder sectio...\n",
              "4                         sir hero chance remember page\n",
              "5                congratulation well use tool well talk\n",
              "6                           cocksucker piss around work\n",
              "7     vandalism matt shirvington article revert plea...\n",
              "8     sorry word nonsense offensive anyway intend wr...\n",
              "9                  alignment subject contrary dulithgow\n",
              "10    fair use rationale imagewonjujpg thank upload ...\n",
              "11                    bbq man let discuss itmaybe phone\n",
              "12    hey talk exclusive group wp talibanswho good d...\n",
              "13    start throw accusation warning let review edit...\n",
              "14    oh girl start argument stick nose belong belie...\n",
              "15    juelz santanas age 2002 juelz santana 18 year ...\n",
              "16                bye look come think comme back tosser\n",
              "17       redirect talkvoydan pop georgiev chernodrinski\n",
              "18    mitsurugi point make sense argue include hindi...\n",
              "19    mean bother see write something regard remove ...\n",
              "Name: clean, dtype: object"
            ]
          },
          "execution_count": 19,
          "metadata": {},
          "output_type": "execute_result"
        }
      ],
      "source": [
        "%%time\n",
        "\n",
        "# saving the cleaned text in a separate column\n",
        "df[\"clean\"] = df['text'].apply(lambda text: clean_text(text))\n",
        "df['clean'].head(20)"
      ]
    },
    {
      "cell_type": "code",
      "execution_count": null,
      "metadata": {
        "id": "DdzaAP9KCVQl"
      },
      "outputs": [],
      "source": [
        "# defining features\n",
        "target = df[\"toxic\"]\n",
        "features = df[\"clean\"]"
      ]
    },
    {
      "cell_type": "code",
      "execution_count": null,
      "metadata": {
        "id": "fsVreD_nFC-g"
      },
      "outputs": [],
      "source": [
        "# initializaing TfidfVectorizer\n",
        "vect = TfidfVectorizer(ngram_range=(1,3), min_df=3, max_df=0.9, use_idf=1,\n",
        "               smooth_idf=1, sublinear_tf=1, stop_words=stopwords.words('english'))"
      ]
    },
    {
      "cell_type": "code",
      "execution_count": null,
      "metadata": {
        "colab": {
          "base_uri": "https://localhost:8080/"
        },
        "id": "NbWf_8fhH50D",
        "outputId": "683837a4-b6bf-4e2b-e73d-25df57f60308"
      },
      "outputs": [
        {
          "name": "stdout",
          "output_type": "stream",
          "text": [
            "(119469,)\n",
            "(119469,)\n",
            "(39823,)\n",
            "(39823,)\n"
          ]
        }
      ],
      "source": [
        "# splitting the data\n",
        "features_train, features_test, target_train, target_test = train_test_split(features, target, test_size=0.25, random_state=42,\n",
        "                                                                            stratify=target)\n",
        "print(features_train.shape)\n",
        "print(target_train.shape)\n",
        "print(features_test.shape)\n",
        "print(target_test.shape)"
      ]
    },
    {
      "cell_type": "code",
      "execution_count": null,
      "metadata": {
        "id": "DoywRFL1FGlG"
      },
      "outputs": [],
      "source": [
        "# applying TfidfVectorizer\n",
        "features_train_tfidf = vect.fit_transform(features_train)\n",
        "features_test_tfidf = vect.transform(features_test)"
      ]
    },
    {
      "cell_type": "markdown",
      "metadata": {
        "id": "rmU7o4Ylovyh"
      },
      "source": [
        "We are now prepared for further training: we cleaned the data, split the dataset into sets, and applied a vectorizer."
      ]
    },
    {
      "cell_type": "markdown",
      "metadata": {
        "id": "5FAPQIaHBGKG"
      },
      "source": [
        "## Model Training"
      ]
    },
    {
      "cell_type": "markdown",
      "metadata": {
        "id": "Ajthj52b8F8r"
      },
      "source": [
        "### LogisticRegression"
      ]
    },
    {
      "cell_type": "code",
      "execution_count": null,
      "metadata": {
        "id": "hl1G7JSx0cS3"
      },
      "outputs": [],
      "source": [
        "target_test_lr = target_test"
      ]
    },
    {
      "cell_type": "code",
      "execution_count": null,
      "metadata": {
        "colab": {
          "base_uri": "https://localhost:8080/"
        },
        "id": "VIQ6YagEZiTf",
        "outputId": "8e4966db-e57a-46b6-e421-da920f7183d2"
      },
      "outputs": [
        {
          "name": "stdout",
          "output_type": "stream",
          "text": [
            "Fitting 5 folds for each of 4 candidates, totalling 20 fits\n",
            "Best model parameters: {'solver': 'liblinear', 'penalty': 'l1'}\n",
            "F1 score: 0.7662832728708431\n",
            "CPU times: user 5min 1s, sys: 10.5 s, total: 5min 11s\n",
            "Wall time: 5min 3s\n"
          ]
        }
      ],
      "source": [
        "%%time\n",
        "\n",
        "# model inintialization and training\n",
        "logreg = LogisticRegression()\n",
        "\n",
        "# hyperparameters for RandomizedSearchCV\n",
        "param_grid = {\n",
        "    'penalty': ['l1', 'l2'],\n",
        "    'solver': ['liblinear', 'saga']\n",
        "}\n",
        "\n",
        "random_search = RandomizedSearchCV(\n",
        "    logreg,\n",
        "    param_distributions=param_grid,\n",
        "    n_iter=10,\n",
        "    scoring='f1',\n",
        "    cv=5,\n",
        "    verbose=1,\n",
        "    random_state=42\n",
        ")\n",
        "\n",
        "random_search.fit(features_train_tfidf, target_train)\n",
        "\n",
        "best_params_lr = random_search.best_params_\n",
        "best_model_lr = random_search.best_estimator_\n",
        "\n",
        "f1_lr = random_search.best_score_\n",
        "\n",
        "print(\"Best model parameters:\", best_params_lr)\n",
        "print(\"F1 score:\", f1_lr)"
      ]
    },
    {
      "cell_type": "markdown",
      "metadata": {
        "id": "F42FcagCE04A"
      },
      "source": [
        "### CatBoost"
      ]
    },
    {
      "cell_type": "code",
      "execution_count": null,
      "metadata": {
        "colab": {
          "base_uri": "https://localhost:8080/"
        },
        "id": "Zswes7uQwbqp",
        "outputId": "db29fedb-17db-4de5-a07c-23bd87a8f7ca"
      },
      "outputs": [
        {
          "name": "stdout",
          "output_type": "stream",
          "text": [
            "0    14311\n",
            "1     1619\n",
            "Name: toxic, dtype: int64\n",
            "0    0.898368\n",
            "1    0.101632\n",
            "Name: toxic, dtype: float64\n"
          ]
        }
      ],
      "source": [
        "# let's train the model on 10% of the original dataframe for faster training\n",
        "\n",
        "the_rest, df_sample = train_test_split(\n",
        "    df, test_size = 0.1, random_state=42,\n",
        "    stratify=df['toxic']\n",
        "    )\n",
        "\n",
        "data = df_sample.copy()\n",
        "data = data.reset_index(drop=True)\n",
        "\n",
        "del the_rest\n",
        "del df_sample\n",
        "\n",
        "print(data['toxic'].value_counts())\n",
        "print(data['toxic'].value_counts(normalize=True))"
      ]
    },
    {
      "cell_type": "code",
      "execution_count": null,
      "metadata": {
        "colab": {
          "base_uri": "https://localhost:8080/"
        },
        "id": "cWlZgNsexUNZ",
        "outputId": "7f3a9ec1-ff97-4186-f891-e694b5f89a4f"
      },
      "outputs": [
        {
          "name": "stdout",
          "output_type": "stream",
          "text": [
            "(11947,)\n",
            "(11947,)\n",
            "(3983,)\n",
            "(3983,)\n"
          ]
        }
      ],
      "source": [
        "# defining features\n",
        "target = data[\"toxic\"]\n",
        "features = data[\"clean\"]\n",
        "\n",
        "# splitting data\n",
        "features_train, features_test, target_train, target_test = train_test_split(features, target, test_size=0.25, random_state=42,\n",
        "                                                                            stratify=target)\n",
        "print(features_train.shape)\n",
        "print(target_train.shape)\n",
        "print(features_test.shape)\n",
        "print(target_test.shape)"
      ]
    },
    {
      "cell_type": "code",
      "execution_count": null,
      "metadata": {
        "id": "2ipXFG5mx8Z7"
      },
      "outputs": [],
      "source": [
        "# applying TfidfVectorizer\n",
        "features_train_tfidf_new = vect.fit_transform(features_train)\n",
        "features_test_tfidf_new = vect.transform(features_test)"
      ]
    },
    {
      "cell_type": "code",
      "execution_count": null,
      "metadata": {
        "colab": {
          "base_uri": "https://localhost:8080/"
        },
        "collapsed": true,
        "id": "JFvQOB4GE4GP",
        "outputId": "5dd41d6b-0ee9-4524-f08a-da9490082c6c"
      },
      "outputs": [
        {
          "name": "stdout",
          "output_type": "stream",
          "text": [
            "0:\tlearn: 0.3657707\ttotal: 568ms\tremaining: 27.9s\n",
            "20:\tlearn: 0.1523059\ttotal: 8.92s\tremaining: 12.3s\n",
            "40:\tlearn: 0.1179191\ttotal: 16.1s\tremaining: 3.52s\n",
            "49:\tlearn: 0.1082264\ttotal: 20.3s\tremaining: 0us\n",
            "0:\tlearn: 0.3615681\ttotal: 414ms\tremaining: 20.3s\n",
            "20:\tlearn: 0.1502752\ttotal: 6.93s\tremaining: 9.57s\n",
            "40:\tlearn: 0.1158423\ttotal: 17.1s\tremaining: 3.75s\n",
            "49:\tlearn: 0.1060319\ttotal: 19.9s\tremaining: 0us\n",
            "0:\tlearn: 0.3644701\ttotal: 423ms\tremaining: 20.7s\n",
            "20:\tlearn: 0.1495252\ttotal: 8.9s\tremaining: 12.3s\n",
            "40:\tlearn: 0.1176080\ttotal: 15.9s\tremaining: 3.48s\n",
            "49:\tlearn: 0.1073704\ttotal: 20.4s\tremaining: 0us\n",
            "0:\tlearn: 0.3652083\ttotal: 423ms\tremaining: 20.7s\n",
            "20:\tlearn: 0.1526434\ttotal: 7.03s\tremaining: 9.7s\n",
            "40:\tlearn: 0.1180618\ttotal: 15.5s\tremaining: 3.41s\n",
            "49:\tlearn: 0.1069502\ttotal: 19s\tremaining: 0us\n",
            "0:\tlearn: 0.3643950\ttotal: 411ms\tremaining: 20.1s\n",
            "20:\tlearn: 0.1500231\ttotal: 8.91s\tremaining: 12.3s\n",
            "40:\tlearn: 0.1141776\ttotal: 15.5s\tremaining: 3.41s\n",
            "49:\tlearn: 0.1038057\ttotal: 20.2s\tremaining: 0us\n",
            "0:\tlearn: 0.3528592\ttotal: 487ms\tremaining: 23.9s\n",
            "20:\tlearn: 0.1539628\ttotal: 8.23s\tremaining: 11.4s\n",
            "40:\tlearn: 0.1204891\ttotal: 17.9s\tremaining: 3.92s\n",
            "49:\tlearn: 0.1100515\ttotal: 21.3s\tremaining: 0us\n",
            "Best F1: 0.6557019021477848\n",
            "Best params: {'learning_rate': 0.5, 'iterations': 50}\n",
            "CPU times: user 3min 20s, sys: 2.42 s, total: 3min 22s\n",
            "Wall time: 2min 8s\n"
          ]
        }
      ],
      "source": [
        "%%time\n",
        "\n",
        "# initializing the model\n",
        "model_cat = CatBoostClassifier(random_state=42)\n",
        "\n",
        "# params for RandomizedSearchCV\n",
        "params_cat = {'learning_rate': [0.5],\n",
        "              'iterations': [50]\n",
        "              }\n",
        "\n",
        "\n",
        "grid_cat = RandomizedSearchCV(model_cat, param_distributions = params_cat, scoring='f1',\n",
        "                              random_state=42)\n",
        "\n",
        "grid_cat.fit(features_train_tfidf_new, target_train, verbose=20)\n",
        "f1_cat = grid_cat.best_score_\n",
        "\n",
        "print(\"Best F1:\", f1_cat)\n",
        "print(\"Best params:\", grid_cat.best_params_)"
      ]
    },
    {
      "cell_type": "markdown",
      "metadata": {
        "id": "MetP7PlSDBQx"
      },
      "source": [
        "### BERT toxic-comment-model"
      ]
    },
    {
      "cell_type": "code",
      "execution_count": null,
      "metadata": {
        "id": "5KkBoB0MLj3Y"
      },
      "outputs": [],
      "source": [
        "!pip install transformers --quiet"
      ]
    },
    {
      "cell_type": "code",
      "execution_count": null,
      "metadata": {
        "colab": {
          "base_uri": "https://localhost:8080/"
        },
        "id": "8qfUEi3g8sgl",
        "outputId": "e4a45f20-1736-4396-fb30-3188d69f8d94"
      },
      "outputs": [
        {
          "name": "stdout",
          "output_type": "stream",
          "text": [
            "Looking in indexes: https://pypi.org/simple, https://us-python.pkg.dev/colab-wheels/public/simple/\n",
            "Requirement already satisfied: tqdm in /usr/local/lib/python3.10/dist-packages (4.65.0)\n"
          ]
        }
      ],
      "source": [
        "!pip install tqdm"
      ]
    },
    {
      "cell_type": "code",
      "execution_count": null,
      "metadata": {
        "colab": {
          "base_uri": "https://localhost:8080/"
        },
        "id": "-nho5-2y2wdL",
        "outputId": "23762d65-d48a-4c67-a7e4-fd8e300fc042",
        "scrolled": true
      },
      "outputs": [
        {
          "data": {
            "text/plain": [
              "0    2688\n",
              "1     312\n",
              "Name: toxic, dtype: int64"
            ]
          },
          "execution_count": 35,
          "metadata": {},
          "output_type": "execute_result"
        }
      ],
      "source": [
        "# let's create a smaller sample of the dataset for faster training\n",
        "df_bert = df.sample(3000, random_state=42)\n",
        "df_bert['toxic'].value_counts()"
      ]
    },
    {
      "cell_type": "code",
      "execution_count": null,
      "metadata": {
        "id": "7eOO6VL3vwnb"
      },
      "outputs": [],
      "source": [
        "# defining features\n",
        "target = df_bert[\"toxic\"]\n",
        "features = df_bert[\"clean\"]"
      ]
    },
    {
      "cell_type": "code",
      "execution_count": null,
      "metadata": {
        "colab": {
          "base_uri": "https://localhost:8080/"
        },
        "id": "KAhlw05kvpwX",
        "outputId": "7842fb02-9abc-460b-93a4-0216c83091dc"
      },
      "outputs": [
        {
          "name": "stdout",
          "output_type": "stream",
          "text": [
            "(2250,)\n",
            "(2250,)\n",
            "(750,)\n",
            "(750,)\n"
          ]
        }
      ],
      "source": [
        "# splitting data\n",
        "features_train, features_test, target_train, target_test = train_test_split(features, target, test_size=0.25, random_state=42,\n",
        "                                                                            stratify=target)\n",
        "print(features_train.shape)\n",
        "print(target_train.shape)\n",
        "print(features_test.shape)\n",
        "print(target_test.shape)"
      ]
    },
    {
      "cell_type": "code",
      "execution_count": null,
      "metadata": {
        "colab": {
          "base_uri": "https://localhost:8080/"
        },
        "collapsed": true,
        "id": "lBRI0MQhxzPv",
        "outputId": "e3a8c65e-d186-4ed8-98ae-860f4a4fefbf"
      },
      "outputs": [
        {
          "name": "stderr",
          "output_type": "stream",
          "text": [
            "Xformers is not installed correctly. If you want to use memory_efficient_attention to accelerate training use the following command to install Xformers\n",
            "pip install xformers.\n",
            "100%|██████████| 2250/2250 [04:17<00:00,  8.73it/s]"
          ]
        },
        {
          "name": "stdout",
          "output_type": "stream",
          "text": [
            "CPU times: user 3min 55s, sys: 1.43 s, total: 3min 56s\n",
            "Wall time: 4min 23s\n"
          ]
        },
        {
          "name": "stderr",
          "output_type": "stream",
          "text": [
            "\n"
          ]
        }
      ],
      "source": [
        "%%time\n",
        "\n",
        "# loading the pretrained model and tokenizer\n",
        "model_name = \"martin-ha/toxic-comment-model\"\n",
        "tokenizer = AutoTokenizer.from_pretrained(model_name, padding=True,\n",
        "                       truncation=True,\n",
        "                       add_special_tokens=True,\n",
        "                       return_tensors=\"pt\")\n",
        "model = AutoModelForSequenceClassification.from_pretrained(model_name)\n",
        "\n",
        "pipeline = TextClassificationPipeline(model=model, tokenizer=tokenizer)\n",
        "\n",
        "target_pred = []\n",
        "\n",
        "for text in tqdm(features_train):\n",
        "  pred = pipeline(text[:512])\n",
        "  target_pred.append(1 if pred[0]['label'] == 'toxic' else 0)\n"
      ]
    },
    {
      "cell_type": "code",
      "execution_count": null,
      "metadata": {
        "colab": {
          "base_uri": "https://localhost:8080/"
        },
        "id": "p431WFFD7xru",
        "outputId": "b19c2ccb-fe87-44e5-e2c6-179e51ebb315"
      },
      "outputs": [
        {
          "data": {
            "text/plain": [
              "0    2115\n",
              "1     135\n",
              "dtype: int64"
            ]
          },
          "execution_count": 39,
          "metadata": {},
          "output_type": "execute_result"
        }
      ],
      "source": [
        "# let's check the class balance in the predictions\n",
        "pd.Series(target_pred).value_counts()"
      ]
    },
    {
      "cell_type": "code",
      "execution_count": null,
      "metadata": {
        "colab": {
          "base_uri": "https://localhost:8080/"
        },
        "id": "4AOmDHyX7u2o",
        "outputId": "7934f0b1-e80e-47fb-8d42-9414565a44c0"
      },
      "outputs": [
        {
          "name": "stdout",
          "output_type": "stream",
          "text": [
            "F1: 0.6178861788617886\n"
          ]
        }
      ],
      "source": [
        "# calculating F1\n",
        "f1_bert = f1_score(target_train, target_pred)\n",
        "print(\"F1:\", f1_bert)"
      ]
    },
    {
      "cell_type": "markdown",
      "metadata": {
        "id": "Jh5Hg0DbGM7q"
      },
      "source": [
        "### Training results"
      ]
    },
    {
      "cell_type": "code",
      "execution_count": null,
      "metadata": {
        "colab": {
          "base_uri": "https://localhost:8080/",
          "height": 143
        },
        "id": "wKgb0Z4JsYmq",
        "outputId": "af171b66-b8c4-4c4e-9e46-e9d8609230f0"
      },
      "outputs": [
        {
          "data": {
            "text/html": [
              "\n",
              "  <div id=\"df-21a68947-3bf6-4cc4-a918-e81337e1c2ea\">\n",
              "    <div class=\"colab-df-container\">\n",
              "      <div>\n",
              "<style scoped>\n",
              "    .dataframe tbody tr th:only-of-type {\n",
              "        vertical-align: middle;\n",
              "    }\n",
              "\n",
              "    .dataframe tbody tr th {\n",
              "        vertical-align: top;\n",
              "    }\n",
              "\n",
              "    .dataframe thead th {\n",
              "        text-align: right;\n",
              "    }\n",
              "</style>\n",
              "<table border=\"1\" class=\"dataframe\">\n",
              "  <thead>\n",
              "    <tr style=\"text-align: right;\">\n",
              "      <th></th>\n",
              "      <th>Model</th>\n",
              "      <th>F1 score</th>\n",
              "    </tr>\n",
              "  </thead>\n",
              "  <tbody>\n",
              "    <tr>\n",
              "      <th>0</th>\n",
              "      <td>LogisticRegression</td>\n",
              "      <td>0.766283</td>\n",
              "    </tr>\n",
              "    <tr>\n",
              "      <th>1</th>\n",
              "      <td>CatboostClassifier</td>\n",
              "      <td>0.655702</td>\n",
              "    </tr>\n",
              "    <tr>\n",
              "      <th>2</th>\n",
              "      <td>BERT</td>\n",
              "      <td>0.617886</td>\n",
              "    </tr>\n",
              "  </tbody>\n",
              "</table>\n",
              "</div>\n",
              "      <button class=\"colab-df-convert\" onclick=\"convertToInteractive('df-21a68947-3bf6-4cc4-a918-e81337e1c2ea')\"\n",
              "              title=\"Convert this dataframe to an interactive table.\"\n",
              "              style=\"display:none;\">\n",
              "        \n",
              "  <svg xmlns=\"http://www.w3.org/2000/svg\" height=\"24px\"viewBox=\"0 0 24 24\"\n",
              "       width=\"24px\">\n",
              "    <path d=\"M0 0h24v24H0V0z\" fill=\"none\"/>\n",
              "    <path d=\"M18.56 5.44l.94 2.06.94-2.06 2.06-.94-2.06-.94-.94-2.06-.94 2.06-2.06.94zm-11 1L8.5 8.5l.94-2.06 2.06-.94-2.06-.94L8.5 2.5l-.94 2.06-2.06.94zm10 10l.94 2.06.94-2.06 2.06-.94-2.06-.94-.94-2.06-.94 2.06-2.06.94z\"/><path d=\"M17.41 7.96l-1.37-1.37c-.4-.4-.92-.59-1.43-.59-.52 0-1.04.2-1.43.59L10.3 9.45l-7.72 7.72c-.78.78-.78 2.05 0 2.83L4 21.41c.39.39.9.59 1.41.59.51 0 1.02-.2 1.41-.59l7.78-7.78 2.81-2.81c.8-.78.8-2.07 0-2.86zM5.41 20L4 18.59l7.72-7.72 1.47 1.35L5.41 20z\"/>\n",
              "  </svg>\n",
              "      </button>\n",
              "      \n",
              "  <style>\n",
              "    .colab-df-container {\n",
              "      display:flex;\n",
              "      flex-wrap:wrap;\n",
              "      gap: 12px;\n",
              "    }\n",
              "\n",
              "    .colab-df-convert {\n",
              "      background-color: #E8F0FE;\n",
              "      border: none;\n",
              "      border-radius: 50%;\n",
              "      cursor: pointer;\n",
              "      display: none;\n",
              "      fill: #1967D2;\n",
              "      height: 32px;\n",
              "      padding: 0 0 0 0;\n",
              "      width: 32px;\n",
              "    }\n",
              "\n",
              "    .colab-df-convert:hover {\n",
              "      background-color: #E2EBFA;\n",
              "      box-shadow: 0px 1px 2px rgba(60, 64, 67, 0.3), 0px 1px 3px 1px rgba(60, 64, 67, 0.15);\n",
              "      fill: #174EA6;\n",
              "    }\n",
              "\n",
              "    [theme=dark] .colab-df-convert {\n",
              "      background-color: #3B4455;\n",
              "      fill: #D2E3FC;\n",
              "    }\n",
              "\n",
              "    [theme=dark] .colab-df-convert:hover {\n",
              "      background-color: #434B5C;\n",
              "      box-shadow: 0px 1px 3px 1px rgba(0, 0, 0, 0.15);\n",
              "      filter: drop-shadow(0px 1px 2px rgba(0, 0, 0, 0.3));\n",
              "      fill: #FFFFFF;\n",
              "    }\n",
              "  </style>\n",
              "\n",
              "      <script>\n",
              "        const buttonEl =\n",
              "          document.querySelector('#df-21a68947-3bf6-4cc4-a918-e81337e1c2ea button.colab-df-convert');\n",
              "        buttonEl.style.display =\n",
              "          google.colab.kernel.accessAllowed ? 'block' : 'none';\n",
              "\n",
              "        async function convertToInteractive(key) {\n",
              "          const element = document.querySelector('#df-21a68947-3bf6-4cc4-a918-e81337e1c2ea');\n",
              "          const dataTable =\n",
              "            await google.colab.kernel.invokeFunction('convertToInteractive',\n",
              "                                                     [key], {});\n",
              "          if (!dataTable) return;\n",
              "\n",
              "          const docLinkHtml = 'Like what you see? Visit the ' +\n",
              "            '<a target=\"_blank\" href=https://colab.research.google.com/notebooks/data_table.ipynb>data table notebook</a>'\n",
              "            + ' to learn more about interactive tables.';\n",
              "          element.innerHTML = '';\n",
              "          dataTable['output_type'] = 'display_data';\n",
              "          await google.colab.output.renderOutput(dataTable, element);\n",
              "          const docLink = document.createElement('div');\n",
              "          docLink.innerHTML = docLinkHtml;\n",
              "          element.appendChild(docLink);\n",
              "        }\n",
              "      </script>\n",
              "    </div>\n",
              "  </div>\n",
              "  "
            ],
            "text/plain": [
              "                Model  F1 score\n",
              "0  LogisticRegression  0.766283\n",
              "1  CatboostClassifier  0.655702\n",
              "2                BERT  0.617886"
            ]
          },
          "execution_count": 43,
          "metadata": {},
          "output_type": "execute_result"
        }
      ],
      "source": [
        "data = {\"Model\": [\"LogisticRegression\", \"CatboostClassifier\", \"BERT\"], \"F1 score\": [f1_lr, f1_cat, f1_bert]}\n",
        "results = pd.DataFrame(data)\n",
        "results"
      ]
    },
    {
      "cell_type": "markdown",
      "metadata": {
        "id": "Hwj1-jDfza8P"
      },
      "source": [
        "Logistic Regression shows the best results."
      ]
    },
    {
      "cell_type": "markdown",
      "metadata": {
        "id": "VHLPf0jkzWto"
      },
      "source": [
        "### Testing"
      ]
    },
    {
      "cell_type": "code",
      "execution_count": null,
      "metadata": {
        "id": "qc22yatCzViO"
      },
      "outputs": [],
      "source": [
        "# getting predictions\n",
        "predictions_test = best_model_lr.predict(features_test_tfidf)"
      ]
    },
    {
      "cell_type": "code",
      "execution_count": null,
      "metadata": {
        "colab": {
          "base_uri": "https://localhost:8080/"
        },
        "id": "REuG4ZRtzxKs",
        "outputId": "09818db7-89e1-4c7c-b6c8-87f46ab3b9a0"
      },
      "outputs": [
        {
          "name": "stdout",
          "output_type": "stream",
          "text": [
            "F1 Score: 0.7724660030842562\n"
          ]
        }
      ],
      "source": [
        "# calculating f1\n",
        "f1_final = f1_score(target_test_lr, predictions_test)\n",
        "print(\"F1 Score:\", f1_final)"
      ]
    },
    {
      "cell_type": "markdown",
      "metadata": {
        "id": "YRP_r1uYBGKG"
      },
      "source": [
        "## Summary"
      ]
    },
    {
      "cell_type": "markdown",
      "metadata": {
        "id": "A7aSljDprMKU"
      },
      "source": [
        "In this study, we examined several models: logistic regression, CatBoost and the BERT variant for recognizing toxic comments. We were able to achieve the target F1 metric value of over 0.75 with the LogisticRegression model: 0.77."
      ]
    }
  ],
  "metadata": {
    "ExecuteTimeLog": [
      {
        "duration": 16,
        "start_time": "2023-06-16T15:23:18.453Z"
      },
      {
        "duration": 54,
        "start_time": "2023-06-16T15:25:02.930Z"
      },
      {
        "duration": 40,
        "start_time": "2023-06-16T15:25:16.712Z"
      },
      {
        "duration": 29,
        "start_time": "2023-06-16T15:25:58.696Z"
      },
      {
        "duration": 126,
        "start_time": "2023-06-16T15:31:24.660Z"
      },
      {
        "duration": 7551,
        "start_time": "2023-06-16T15:31:47.479Z"
      },
      {
        "duration": 2573,
        "start_time": "2023-06-16T15:32:29.345Z"
      },
      {
        "duration": 2596,
        "start_time": "2023-06-16T15:36:47.231Z"
      },
      {
        "duration": 3337,
        "start_time": "2023-06-16T15:37:00.810Z"
      },
      {
        "duration": 2526,
        "start_time": "2023-06-16T15:37:49.402Z"
      },
      {
        "duration": 138,
        "start_time": "2023-06-16T16:38:01.194Z"
      },
      {
        "duration": 592,
        "start_time": "2023-06-16T16:38:36.290Z"
      },
      {
        "duration": 2305,
        "start_time": "2023-06-16T16:40:37.587Z"
      },
      {
        "duration": 11,
        "start_time": "2023-06-16T16:43:13.752Z"
      },
      {
        "duration": 101,
        "start_time": "2023-06-16T16:43:19.243Z"
      },
      {
        "duration": 4,
        "start_time": "2023-06-16T16:43:29.785Z"
      },
      {
        "duration": 38,
        "start_time": "2023-06-16T16:43:29.791Z"
      },
      {
        "duration": 2367,
        "start_time": "2023-06-16T16:43:29.830Z"
      },
      {
        "duration": 2215,
        "start_time": "2023-06-16T16:43:32.199Z"
      },
      {
        "duration": 1473,
        "start_time": "2023-06-16T16:43:34.418Z"
      },
      {
        "duration": 298,
        "start_time": "2023-06-16T16:43:35.894Z"
      },
      {
        "duration": 3205,
        "start_time": "2023-06-16T16:43:36.194Z"
      },
      {
        "duration": 33,
        "start_time": "2023-06-16T16:43:39.400Z"
      },
      {
        "duration": 41,
        "start_time": "2023-06-16T16:43:39.434Z"
      },
      {
        "duration": 14,
        "start_time": "2023-06-16T16:43:39.478Z"
      },
      {
        "duration": 26,
        "start_time": "2023-06-16T16:43:39.493Z"
      },
      {
        "duration": 242,
        "start_time": "2023-06-16T16:43:39.521Z"
      },
      {
        "duration": 69,
        "start_time": "2023-06-16T16:43:39.765Z"
      },
      {
        "duration": 6,
        "start_time": "2023-06-16T16:43:39.836Z"
      },
      {
        "duration": 2334,
        "start_time": "2023-06-16T16:43:39.854Z"
      },
      {
        "duration": 3,
        "start_time": "2023-06-16T16:43:42.190Z"
      },
      {
        "duration": 20,
        "start_time": "2023-06-16T16:43:42.195Z"
      },
      {
        "duration": 987,
        "start_time": "2023-06-16T16:43:54.887Z"
      },
      {
        "duration": 12,
        "start_time": "2023-06-16T16:45:31.247Z"
      },
      {
        "duration": 1022,
        "start_time": "2023-06-16T16:45:33.775Z"
      },
      {
        "duration": 10,
        "start_time": "2023-06-16T16:46:53.786Z"
      },
      {
        "duration": 1146,
        "start_time": "2023-06-16T16:46:55.600Z"
      },
      {
        "duration": 6,
        "start_time": "2023-06-16T17:06:29.203Z"
      },
      {
        "duration": 1152,
        "start_time": "2023-06-16T17:06:31.709Z"
      },
      {
        "duration": 7,
        "start_time": "2023-06-16T17:11:22.127Z"
      },
      {
        "duration": 21,
        "start_time": "2023-06-17T11:10:44.523Z"
      },
      {
        "duration": 74,
        "start_time": "2023-06-17T11:10:45.563Z"
      }
    ],
    "colab": {
      "gpuType": "T4",
      "provenance": [],
      "toc_visible": true
    },
    "kernelspec": {
      "display_name": "Python 3 (ipykernel)",
      "language": "python",
      "name": "python3"
    },
    "language_info": {
      "codemirror_mode": {
        "name": "ipython",
        "version": 3
      },
      "file_extension": ".py",
      "mimetype": "text/x-python",
      "name": "python",
      "nbconvert_exporter": "python",
      "pygments_lexer": "ipython3",
      "version": "3.9.5"
    },
    "toc": {
      "base_numbering": 1,
      "nav_menu": {},
      "number_sections": true,
      "sideBar": true,
      "skip_h1_title": true,
      "title_cell": "Содержание",
      "title_sidebar": "Contents",
      "toc_cell": true,
      "toc_position": {
        "height": "calc(100% - 180px)",
        "left": "10px",
        "top": "150px",
        "width": "302.391px"
      },
      "toc_section_display": true,
      "toc_window_display": true
    }
  },
  "nbformat": 4,
  "nbformat_minor": 0
}